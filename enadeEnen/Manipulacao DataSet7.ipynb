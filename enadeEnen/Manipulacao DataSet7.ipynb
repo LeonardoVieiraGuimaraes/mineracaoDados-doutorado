{
 "cells": [
  {
   "cell_type": "code",
   "execution_count": 3,
   "id": "cdee130a-86f1-4cf8-8192-1e0193191117",
   "metadata": {},
   "outputs": [],
   "source": [
    "import numpy as np\n",
    "import os\n",
    "import pandas as pd\n",
    "import gc"
   ]
  },
  {
   "cell_type": "code",
   "execution_count": 4,
   "id": "dbf27501-8fe4-4b93-b5b7-973cacc0dbe4",
   "metadata": {},
   "outputs": [],
   "source": [
    "past = 'Enem/DataSet/'"
   ]
  },
  {
   "cell_type": "code",
   "execution_count": 5,
   "id": "361f3ba3-cb3a-487d-aa4e-2a8aed901e3d",
   "metadata": {},
   "outputs": [],
   "source": [
    "\n",
    "df = {}"
   ]
  },
  {
   "cell_type": "code",
   "execution_count": null,
   "id": "fd2af190-809f-4026-b27d-105626508a0a",
   "metadata": {},
   "outputs": [
    {
     "name": "stdout",
     "output_type": "stream",
     "text": [
      "1998 Terminado\n",
      "1999 Terminado\n",
      "2000 Terminado\n",
      "2001 Terminado\n",
      "2002 Terminado\n",
      "2003 Terminado\n",
      "2004 Terminado\n",
      "2005 Terminado\n",
      "2006 Terminado\n",
      "2007 Terminado\n",
      "2008 Terminado\n"
     ]
    }
   ],
   "source": [
    "ano_inicio = 1998\n",
    "ano_fim = 2008\n",
    "tcol = {}\n",
    "#cols=['SG_UF_RESIDENCIA', 'NO_MUNICIPIO_RESIDENCIA', 'VL_PERC_COMP1', 'VL_PERC_COMP2', \n",
    "#      'VL_PERC_COMP3', 'VL_PERC_COMP4', 'VL_PERC_COMP5', 'NU_NOTA_COMP1', 'NU_NOTA_COMP2', 'NU_NOTA_COMP3', \n",
    "#        'NU_NOTA_COMP4', 'NU_NOTA_COMP5']\n",
    "\n",
    "cols=['NU_IDADE', 'CO_MUNICIPIO_RESIDENCIA', 'VL_PERC_COMP1', 'VL_PERC_COMP2', \n",
    "      'VL_PERC_COMP3', 'VL_PERC_COMP4', 'VL_PERC_COMP5', 'NU_NOTA_COMP1', 'NU_NOTA_COMP2', 'NU_NOTA_COMP3', \n",
    "      'NU_NOTA_COMP4', 'NU_NOTA_COMP5']\n",
    "\n",
    "for ano in range(ano_inicio, ano_fim + 1):\n",
    "    dftemp = pd.DataFrame()\n",
    "    for chunk in pd.read_csv(past + 'MICRODADOS_ENEM_' + str(ano) + '.csv', encoding = 'latin1', \n",
    "                             delimiter = ';', chunksize=300000,  low_memory = False, usecols = cols):\n",
    "        dftemp = pd.concat([dftemp, chunk], ignore_index=True)\n",
    "        del chunk; gc.collect()\n",
    "    \n",
    "    df.update({ano: dftemp})\n",
    "    del dftemp; gc.collect()\n",
    "    print(str(ano) + ' Terminado')"
   ]
  },
  {
   "cell_type": "code",
   "execution_count": 7,
   "id": "647b6638-534f-49a5-a31b-a0c8899de9df",
   "metadata": {},
   "outputs": [
    {
     "name": "stdout",
     "output_type": "stream",
     "text": [
      "2009 Terminado\n",
      "2010 Terminado\n"
     ]
    }
   ],
   "source": [
    "ano_inicio = 2009\n",
    "ano_fim = 2010\n",
    "\n",
    "cols = ['NU_IDADE', 'CO_MUNICIPIO_RESIDENCIA', 'NU_NOTA_CN', 'NU_NOTA_CH', 'NU_NOTA_LC', 'NU_NOTA_MT', \n",
    "          'NU_NOTA_COMP1', 'NU_NOTA_COMP2', 'NU_NOTA_COMP3', 'NU_NOTA_COMP4', 'NU_NOTA_COMP5']\n",
    "\n",
    "#cols = ['SG_UF_PROVA', 'NO_MUNICIPIO_PROVA','COD_MUNICIPIO_RESIDENCIA' 'NU_NOTA_CN', 'NU_NOTA_CH', 'NU_NOTA_LC', 'NU_NOTA_MT', \n",
    "          #'NU_NOTA_COMP1', 'NU_NOTA_COMP2', 'NU_NOTA_COMP3', 'NU_NOTA_COMP4', 'NU_NOTA_COMP5']\n",
    "for ano in range(ano_inicio, ano_fim + 1):\n",
    "    dftemp = pd.DataFrame()\n",
    "    for chunk in pd.read_csv(past + 'MICRODADOS_ENEM_' + str(ano) + '.csv', encoding = 'latin1', \n",
    "                             delimiter = ';', chunksize=300000,  low_memory = False, usecols = cols):\n",
    "        dftemp = pd.concat([dftemp, chunk], ignore_index=True)\n",
    "        del chunk; gc.collect()\n",
    "    \n",
    "    df.update({ano: dftemp})\n",
    "    del dftemp; gc.collect()\n",
    "    print(str(ano) + ' Terminado')"
   ]
  },
  {
   "cell_type": "code",
   "execution_count": 8,
   "id": "c3a4de1c-a982-4a17-a227-e9b1aab08c8b",
   "metadata": {},
   "outputs": [
    {
     "name": "stdout",
     "output_type": "stream",
     "text": [
      "2012 Terminado\n"
     ]
    }
   ],
   "source": [
    "ano_inicio = 2012\n",
    "ano_fim = 2012\n",
    "\n",
    "cols = ['IDADE', 'COD_MUNICIPIO_INSC', 'NU_NT_CN', 'NU_NT_CH', 'NU_NT_LC', 'NU_NT_MT', \n",
    "          'NU_NOTA_COMP1', 'NU_NOTA_COMP2', 'NU_NOTA_COMP3', 'NU_NOTA_COMP4', 'NU_NOTA_COMP5']\n",
    "\n",
    "#cols = ['UF_ESC', 'NO_MUNICIPIO_PROVA', 'COD_MUNICIPIO_RESIDENCIA', 'NU_NT_CN', 'NU_NT_CH', 'NU_NT_LC', 'NU_NT_MT', \n",
    "#          'NU_NOTA_COMP1', 'NU_NOTA_COMP2', 'NU_NOTA_COMP3', 'NU_NOTA_COMP4', 'NU_NOTA_COMP5']\n",
    "\n",
    "for ano in range(ano_inicio, ano_fim + 1):\n",
    "    dftemp = pd.DataFrame()\n",
    "    i = 0\n",
    "    for chunk in pd.read_csv(past + 'MICRODADOS_ENEM_' + str(ano) + '.csv', encoding = 'latin1', \n",
    "                             delimiter = ',', chunksize=300000,  low_memory = False, usecols = cols):\n",
    "        dftemp = pd.concat([dftemp, chunk], ignore_index=True)\n",
    "        del chunk; gc.collect()\n",
    "    \n",
    "    df.update({ano: dftemp})\n",
    "    del dftemp; gc.collect()\n",
    "    print(str(ano) + ' Terminado')"
   ]
  },
  {
   "cell_type": "code",
   "execution_count": 12,
   "id": "d29bc8b3-68ec-4e68-b3e0-26e7e70b1620",
   "metadata": {},
   "outputs": [
    {
     "name": "stdout",
     "output_type": "stream",
     "text": [
      "2013 Terminado\n"
     ]
    }
   ],
   "source": [
    "ano_inicio = 2013\n",
    "ano_fim = 2013\n",
    "cols = ['IDADE','COD_MUNICIPIO_RESIDENCIA', 'NOTA_CN', 'NOTA_CH', 'NOTA_LC', 'NOTA_MT', \n",
    "          'NU_NOTA_COMP1', 'NU_NOTA_COMP2', 'NU_NOTA_COMP3', 'NU_NOTA_COMP4', 'NU_NOTA_COMP5']\n",
    "\n",
    "#cols = ['UF_PROVA', 'NO_MUNICIPIO_PROVA', 'NOTA_CN', 'NOTA_CH', 'NOTA_LC', 'NOTA_MT', \n",
    "#          'NU_NOTA_COMP1', 'NU_NOTA_COMP2', 'NU_NOTA_COMP3', 'NU_NOTA_COMP4', 'NU_NOTA_COMP5']\n",
    "\n",
    "for ano in range(ano_inicio, ano_fim + 1):\n",
    "    dftemp = pd.DataFrame()\n",
    "    for chunk in pd.read_csv(past + 'MICRODADOS_ENEM_' + str(ano) + '.csv', encoding = 'latin1', \n",
    "                             delimiter = ';', chunksize=300000,  low_memory = False, usecols = cols):\n",
    "        dftemp = pd.concat([dftemp, chunk], ignore_index=True)\n",
    "        del chunk; gc.collect()\n",
    "    \n",
    "    df.update({ano: dftemp})\n",
    "    del dftemp; gc.collect()\n",
    "    print(str(ano) + ' Terminado')"
   ]
  },
  {
   "cell_type": "code",
   "execution_count": 13,
   "id": "3806c089-0180-43f9-9a35-6d8c6c41741f",
   "metadata": {},
   "outputs": [
    {
     "name": "stdout",
     "output_type": "stream",
     "text": [
      "2014 Terminado\n"
     ]
    }
   ],
   "source": [
    "ano_inicio = 2014\n",
    "ano_fim = 2014\n",
    "cols = ['IDADE', 'COD_MUNICIPIO_RESIDENCIA', 'NOTA_CN', 'NOTA_CH', 'NOTA_LC', 'NOTA_MT', \n",
    "          'NU_NOTA_COMP1', 'NU_NOTA_COMP2', 'NU_NOTA_COMP3', 'NU_NOTA_COMP4', 'NU_NOTA_COMP5']\n",
    "\n",
    "#cols = ['UF_PROVA', 'NO_MUNICIPIO_PROVA', 'NOTA_CN', 'NOTA_CH', 'NOTA_LC', 'NOTA_MT', \n",
    "#          'NU_NOTA_COMP1', 'NU_NOTA_COMP2', 'NU_NOTA_COMP3', 'NU_NOTA_COMP4', 'NU_NOTA_COMP5']\n",
    "\n",
    "for ano in range(ano_inicio, ano_fim + 1):\n",
    "    dftemp = pd.DataFrame()\n",
    "    for chunk in pd.read_csv(past + 'MICRODADOS_ENEM_' + str(ano) + '.csv', encoding = 'latin1', \n",
    "                             delimiter = ',', chunksize=300000,  low_memory = False, usecols = cols):\n",
    "        dftemp = pd.concat([dftemp, chunk], ignore_index=True)\n",
    "        del chunk; gc.collect()\n",
    "    \n",
    "    df.update({ano: dftemp})\n",
    "    del dftemp; gc.collect()\n",
    "    print(str(ano) + ' Terminado')"
   ]
  },
  {
   "cell_type": "code",
   "execution_count": 14,
   "id": "c78ceb72-217f-4cf9-b57e-f28fa8b01607",
   "metadata": {},
   "outputs": [
    {
     "name": "stdout",
     "output_type": "stream",
     "text": [
      "2015 Terminado\n"
     ]
    }
   ],
   "source": [
    "ano_inicio = 2015\n",
    "ano_fim = 2015\n",
    "\n",
    "cols = ['NU_IDADE','CO_MUNICIPIO_RESIDENCIA', 'NU_NOTA_CN', 'NU_NOTA_CH', 'NU_NOTA_LC', 'NU_NOTA_MT', \n",
    "          'NU_NOTA_COMP1', 'NU_NOTA_COMP2', 'NU_NOTA_COMP3', 'NU_NOTA_COMP4', 'NU_NOTA_COMP5']\n",
    "\n",
    "\n",
    "#cols = ['UF_PROVA', 'NO_MUNICIPIO_PROVA', 'NOTA_CN', 'NOTA_CH', 'NOTA_LC', 'NOTA_MT', \n",
    "#          'NU_NOTA_COMP1', 'NU_NOTA_COMP2', 'NU_NOTA_COMP3', 'NU_NOTA_COMP4', 'NU_NOTA_COMP5']\n",
    "\n",
    "for ano in range(ano_inicio, ano_fim + 1):\n",
    "    dftemp = pd.DataFrame()\n",
    "    for chunk in pd.read_csv(past + 'MICRODADOS_ENEM_' + str(ano) + '.csv', encoding = 'latin1', \n",
    "                             delimiter = ',', chunksize=300000,  low_memory = False, usecols = cols):\n",
    "        dftemp = pd.concat([dftemp, chunk], ignore_index=True)\n",
    "        del chunk; gc.collect()\n",
    "    \n",
    "    df.update({ano: dftemp})\n",
    "    del dftemp; gc.collect()\n",
    "    print(str(ano) + ' Terminado')"
   ]
  },
  {
   "cell_type": "code",
   "execution_count": 15,
   "id": "f1bcee37-5713-49d0-8676-c6c9e8b727f4",
   "metadata": {},
   "outputs": [
    {
     "name": "stdout",
     "output_type": "stream",
     "text": [
      "2016 Terminado\n",
      "2017 Terminado\n",
      "2018 Terminado\n",
      "2019 Terminado\n"
     ]
    }
   ],
   "source": [
    "ano_inicio = 2016\n",
    "ano_fim = 2019\n",
    "\n",
    "cols = ['NU_IDADE','CO_MUNICIPIO_RESIDENCIA', 'NU_NOTA_CN', 'NU_NOTA_CH', 'NU_NOTA_LC', 'NU_NOTA_MT', \n",
    "          'NU_NOTA_COMP1', 'NU_NOTA_COMP2', 'NU_NOTA_COMP3', 'NU_NOTA_COMP4', 'NU_NOTA_COMP5']\n",
    "\n",
    "\n",
    "#cols = ['UF_PROVA', 'NO_MUNICIPIO_PROVA', 'NOTA_CN', 'NOTA_CH', 'NOTA_LC', 'NOTA_MT', \n",
    "#          'NU_NOTA_COMP1', 'NU_NOTA_COMP2', 'NU_NOTA_COMP3', 'NU_NOTA_COMP4', 'NU_NOTA_COMP5']\n",
    "\n",
    "for ano in range(ano_inicio, ano_fim + 1):\n",
    "    dftemp = pd.DataFrame()\n",
    "    for chunk in pd.read_csv(past + 'MICRODADOS_ENEM_' + str(ano) + '.csv', encoding = 'latin1', \n",
    "                             delimiter = ';', chunksize=300000,  low_memory = False, usecols = cols):\n",
    "        dftemp = pd.concat([dftemp, chunk], ignore_index=True)\n",
    "        del chunk; gc.collect()\n",
    "    \n",
    "    df.update({ano: dftemp})\n",
    "    del dftemp; gc.collect()\n",
    "    print(str(ano) + ' Terminado')\n",
    "    \n",
    "    \n"
   ]
  },
  {
   "cell_type": "code",
   "execution_count": 22,
   "id": "4800280d-14b4-42e9-8146-1f5ce0abbf48",
   "metadata": {},
   "outputs": [
    {
     "name": "stdout",
     "output_type": "stream",
     "text": [
      "1998\n",
      "1999\n",
      "2000\n",
      "2001\n",
      "2002\n",
      "2003\n",
      "2004\n",
      "2005\n",
      "2006\n",
      "2007\n",
      "2008\n",
      "2009\n",
      "2010\n",
      "2011\n",
      "2012\n",
      "2013\n",
      "2014\n",
      "2015\n",
      "2016\n",
      "2017\n",
      "2018\n",
      "2019\n"
     ]
    }
   ],
   "source": [
    "ano_inicio = 1998\n",
    "ano_fim = 2019\n",
    "\n",
    "coln = ['NU_IDADE', 'COD_MUN_RESID', 'OB_NT_C1', 'OB_NT_C2','OB_NT_C3', 'OB_NT_C4', 'OB_NT_C5',\n",
    "        'RD_NT_C1', 'RD_NT_C2', 'RD_NT_C3', 'RD_NT_C4', 'RD_NT_C5']\n",
    "\n",
    "for ano in range(ano_inicio, ano_fim +1):\n",
    "    cola = df[ano].columns.values\n",
    "    dff.update({ano: df[ano].rename(columns={cola[i] : coln[i] for i in range(0,len(coln))}, inplace = False)})\n",
    "    df[ano].to_csv(past + 'Data/MICRODADOS_ENEM_' + str(ano) + '.csv', index = False, sep = ';', encoding = 'Latin1')\n",
    "    print(ano)\n",
    "\n",
    "\n",
    "  \n"
   ]
  },
  {
   "cell_type": "code",
   "execution_count": 6,
   "id": "1309936e-e86c-4ef3-bd83-2210ee3b4a22",
   "metadata": {},
   "outputs": [
    {
     "name": "stdout",
     "output_type": "stream",
     "text": [
      "2011 Terminado\n"
     ]
    }
   ],
   "source": [
    "ano_inicio = 2011\n",
    "ano_fim = 2011\n",
    "\n",
    "for ano in range(ano_inicio, ano_fim + 1):\n",
    "    dftemp = pd.DataFrame()\n",
    "    for chunk in pd.read_csv(past + 'Data/MICRODADOS_ENEM_' + str(ano) + '.csv', encoding = 'latin1', \n",
    "                             delimiter = ';', chunksize=300000,  low_memory = False):\n",
    "        dftemp = pd.concat([dftemp, chunk], ignore_index=True)\n",
    "        del chunk; gc.collect()\n",
    "    \n",
    "    df.update({ano: dftemp})\n",
    "    del dftemp; gc.collect()\n",
    "    print(str(ano) + ' Terminado')\n",
    "\n"
   ]
  },
  {
   "cell_type": "code",
   "execution_count": 7,
   "id": "aaf5ee5d-26cc-437c-bbcc-3c1cee24c526",
   "metadata": {},
   "outputs": [
    {
     "ename": "NameError",
     "evalue": "name 'dfff' is not defined",
     "output_type": "error",
     "traceback": [
      "\u001b[1;31m---------------------------------------------------------------------------\u001b[0m",
      "\u001b[1;31mNameError\u001b[0m                                 Traceback (most recent call last)",
      "\u001b[1;32m~\\AppData\\Local\\Temp/ipykernel_7040/334426474.py\u001b[0m in \u001b[0;36m<module>\u001b[1;34m\u001b[0m\n\u001b[0;32m      9\u001b[0m         \u001b[1;32mdel\u001b[0m \u001b[0mchunk\u001b[0m\u001b[1;33m;\u001b[0m \u001b[0mgc\u001b[0m\u001b[1;33m.\u001b[0m\u001b[0mcollect\u001b[0m\u001b[1;33m(\u001b[0m\u001b[1;33m)\u001b[0m\u001b[1;33m\u001b[0m\u001b[1;33m\u001b[0m\u001b[0m\n\u001b[0;32m     10\u001b[0m \u001b[1;33m\u001b[0m\u001b[0m\n\u001b[1;32m---> 11\u001b[1;33m     \u001b[0mdfff\u001b[0m\u001b[1;33m.\u001b[0m\u001b[0mupdate\u001b[0m\u001b[1;33m(\u001b[0m\u001b[1;33m{\u001b[0m\u001b[0mano\u001b[0m\u001b[1;33m:\u001b[0m \u001b[0mdftemp\u001b[0m\u001b[1;33m}\u001b[0m\u001b[1;33m)\u001b[0m\u001b[1;33m\u001b[0m\u001b[1;33m\u001b[0m\u001b[0m\n\u001b[0m\u001b[0;32m     12\u001b[0m     \u001b[1;32mdel\u001b[0m \u001b[0mdftemp\u001b[0m\u001b[1;33m;\u001b[0m \u001b[0mgc\u001b[0m\u001b[1;33m.\u001b[0m\u001b[0mcollect\u001b[0m\u001b[1;33m(\u001b[0m\u001b[1;33m)\u001b[0m\u001b[1;33m\u001b[0m\u001b[1;33m\u001b[0m\u001b[0m\n\u001b[0;32m     13\u001b[0m     \u001b[0mprint\u001b[0m\u001b[1;33m(\u001b[0m\u001b[0mstr\u001b[0m\u001b[1;33m(\u001b[0m\u001b[0mano\u001b[0m\u001b[1;33m)\u001b[0m \u001b[1;33m+\u001b[0m \u001b[1;34m' Terminado'\u001b[0m\u001b[1;33m)\u001b[0m\u001b[1;33m\u001b[0m\u001b[1;33m\u001b[0m\u001b[0m\n",
      "\u001b[1;31mNameError\u001b[0m: name 'dfff' is not defined"
     ]
    }
   ],
   "source": [
    "ano_inicio = 2011\n",
    "ano_fim = 2011\n",
    "\n",
    "for ano in range(ano_inicio, ano_fim + 1):\n",
    "    dftemp = pd.DataFrame()\n",
    "    for chunk in pd.read_csv(past + '/MICRODADOS_ENEM_' + str(ano) + '.txt', encoding = 'latin1', \n",
    "                             delimiter = ';', chunksize=300000,  low_memory = False, header = None):\n",
    "        dftemp = pd.concat([dftemp, chunk], ignore_index=True)\n",
    "        del chunk; gc.collect()\n",
    "    \n",
    "    dfff.update({ano: dftemp})\n",
    "    del dftemp; gc.collect()\n",
    "    print(str(ano) + ' Terminado')\n"
   ]
  },
  {
   "cell_type": "code",
   "execution_count": 21,
   "id": "192bdea3-891c-4bfc-bad3-e59c9a76cdda",
   "metadata": {},
   "outputs": [
    {
     "ename": "KeyError",
     "evalue": "1988",
     "output_type": "error",
     "traceback": [
      "\u001b[1;31m---------------------------------------------------------------------------\u001b[0m",
      "\u001b[1;31mKeyError\u001b[0m                                  Traceback (most recent call last)",
      "\u001b[1;32m~\\AppData\\Local\\Temp/ipykernel_7040/931803208.py\u001b[0m in \u001b[0;36m<module>\u001b[1;34m\u001b[0m\n\u001b[1;32m----> 1\u001b[1;33m \u001b[0mdf\u001b[0m\u001b[1;33m[\u001b[0m\u001b[0mano\u001b[0m\u001b[1;33m]\u001b[0m\u001b[1;33m\u001b[0m\u001b[1;33m\u001b[0m\u001b[0m\n\u001b[0m",
      "\u001b[1;31mKeyError\u001b[0m: 1988"
     ]
    }
   ],
   "source": [
    "df[ano]"
   ]
  },
  {
   "cell_type": "code",
   "execution_count": 5,
   "id": "54778fea-505a-4d11-aec4-71f0156efb24",
   "metadata": {},
   "outputs": [
    {
     "ename": "KeyError",
     "evalue": "2011",
     "output_type": "error",
     "traceback": [
      "\u001b[1;31m---------------------------------------------------------------------------\u001b[0m",
      "\u001b[1;31mKeyError\u001b[0m                                  Traceback (most recent call last)",
      "\u001b[1;32m~\\AppData\\Local\\Temp/ipykernel_7040/3427463887.py\u001b[0m in \u001b[0;36m<module>\u001b[1;34m\u001b[0m\n\u001b[1;32m----> 1\u001b[1;33m \u001b[0mdf\u001b[0m\u001b[1;33m[\u001b[0m\u001b[1;36m2011\u001b[0m\u001b[1;33m]\u001b[0m\u001b[1;33m[\u001b[0m\u001b[1;34m'COD_MUN_RESID'\u001b[0m\u001b[1;33m]\u001b[0m \u001b[1;33m=\u001b[0m \u001b[0mdf\u001b[0m\u001b[1;33m[\u001b[0m\u001b[1;36m2011\u001b[0m\u001b[1;33m]\u001b[0m\u001b[1;33m[\u001b[0m\u001b[1;34m'COD_MUN_RESID'\u001b[0m\u001b[1;33m]\u001b[0m\u001b[1;33m.\u001b[0m\u001b[0mapply\u001b[0m\u001b[1;33m(\u001b[0m\u001b[0mstr\u001b[0m\u001b[1;33m)\u001b[0m\u001b[1;33m.\u001b[0m\u001b[0mstr\u001b[0m\u001b[1;33m.\u001b[0m\u001b[0mslice\u001b[0m\u001b[1;33m(\u001b[0m\u001b[1;36m3\u001b[0m\u001b[1;33m,\u001b[0m\u001b[1;36m11\u001b[0m\u001b[1;33m)\u001b[0m\u001b[1;33m\u001b[0m\u001b[1;33m\u001b[0m\u001b[0m\n\u001b[0m",
      "\u001b[1;31mKeyError\u001b[0m: 2011"
     ]
    }
   ],
   "source": [
    "df[2011]['COD_MUN_RESID'] = df[2011]['COD_MUN_RESID'].apply(str).str.slice(3,11)\n"
   ]
  },
  {
   "cell_type": "code",
   "execution_count": null,
   "id": "ccced083-c5f1-4aca-9821-6f4c82ed1c05",
   "metadata": {},
   "outputs": [],
   "source": [
    "df[2011]['COD_MUN_RESID'] = df[2011]['COD_MUN_RESID'].apply(str).str.slice(3,11)"
   ]
  },
  {
   "cell_type": "code",
   "execution_count": null,
   "id": "7dc84da4-8001-4a88-a2d3-3971b5ab3bd9",
   "metadata": {},
   "outputs": [],
   "source": [
    "dff = {}\n",
    "coln = ['COD_MUN_RESID', 'OB_NT_CN', 'OB_NT_CH','OB_NT_LC', 'OB_NT_MT', \n",
    "        'RD_NT_COMP1', 'RD_NT_COMP2', 'RD_NT_COMP3', 'RD_NT_COMP4', 'RD_NT_COMP5']\n",
    "for ano in range(ano_inicio, ano_fim + 1):\n",
    "    cola = df[ano].columns.values\n",
    "    dff.update({ano: df[ano].rename(columns={cola[i] : coln[i] for i in range(0,len(coln))}, inplace = False)})\n",
    "    dff[ano].to_csv(past + 'Data/MICRODADOS_ENEM_' + str(ano) + '.csv', index = False, sep = ';', encoding = 'Latin1')\n",
    "    print(ano)\n",
    "\n",
    "#cols = ['UF_PROVA', 'NO_MUNICIPIO_PROVA', 'NOTA_CN', 'NOTA_CH', 'NOTA_LC', 'NOTA_MT', \n",
    "#          'NU_NOTA_COMP1', 'NU_NOTA_COMP2', 'NU_NOTA_COMP3', 'NU_NOTA_COMP4', 'NU_NOTA_COMP5']\n",
    "\n",
    "for ano in range(ano_inicio, ano_fim + 1):\n",
    "    dftemp = pd.DataFrame()\n",
    "    for chunk in pd.read_csv(past + 'Data/MICRODADOS_ENEM_' + str(ano) + '.csv', encoding = 'latin1', \n",
    "                             delimiter = ';', chunksize=300000,  low_memory = False, usecols = cols):\n",
    "        dftemp = pd.concat([dftemp, chunk], ignore_index=True)\n",
    "        del chunk; gc.collect()\n",
    "    \n",
    "    df.update({ano: dftemp})\n",
    "    del dftemp; gc.collect()\n",
    "    print(str(ano) + ' Terminado')"
   ]
  }
 ],
 "metadata": {
  "kernelspec": {
   "display_name": "Python 3 (ipykernel)",
   "language": "python",
   "name": "python3"
  },
  "language_info": {
   "codemirror_mode": {
    "name": "ipython",
    "version": 3
   },
   "file_extension": ".py",
   "mimetype": "text/x-python",
   "name": "python",
   "nbconvert_exporter": "python",
   "pygments_lexer": "ipython3",
   "version": "3.8.12"
  }
 },
 "nbformat": 4,
 "nbformat_minor": 5
}
