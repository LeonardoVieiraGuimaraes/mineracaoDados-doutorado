{
 "cells": [
  {
   "cell_type": "code",
   "execution_count": 2,
   "id": "cdee130a-86f1-4cf8-8192-1e0193191117",
   "metadata": {},
   "outputs": [],
   "source": [
    "import numpy as np\n",
    "import os\n",
    "import pandas as pd\n",
    "import gc\n",
    "from sklearn.linear_model import HuberRegressor, LinearRegression\n",
    "from sklearn.ensemble import GradientBoostingRegressor\n",
    "from sklearn.neural_network import MLPClassifier\n",
    "from sklearn.ensemble import RandomForestRegressor\n",
    "from sklearn.datasets import make_regression\n",
    "from sklearn.model_selection import cross_val_score, cross_validate, cross_val_predict, KFold, train_test_split\n",
    "from sklearn import metrics\n",
    "from sklearn.ensemble import GradientBoostingClassifier\n",
    "import random\n",
    "from imblearn.over_sampling import SMOTE\n",
    "from imblearn.under_sampling import NearMiss\n",
    "from sklearn.neural_network import MLPRegressor\n",
    "from sklearn.linear_model import HuberRegressor, LinearRegression\n",
    "from sklearn.ensemble import RandomForestRegressor\n",
    "import matplotlib.pyplot as plt\n",
    "import plotly.express as px"
   ]
  },
  {
   "cell_type": "code",
   "execution_count": 3,
   "id": "dbf27501-8fe4-4b93-b5b7-973cacc0dbe4",
   "metadata": {},
   "outputs": [],
   "source": [
    "pastENEM = 'Enem/DataSet/Data/'\n",
    "pastENADE = 'Enade/DataSet/Data/'\n",
    "pastVar = 'Enade/DataSet/Dicionarios/Variaveis/'"
   ]
  },
  {
   "cell_type": "code",
   "execution_count": 4,
   "id": "361f3ba3-cb3a-487d-aa4e-2a8aed901e3d",
   "metadata": {},
   "outputs": [],
   "source": [
    "dff_Enade = {}\n",
    "dff_Enem = {}"
   ]
  },
  {
   "cell_type": "code",
   "execution_count": 121,
   "id": "fd2af190-809f-4026-b27d-105626508a0a",
   "metadata": {},
   "outputs": [
    {
     "name": "stdout",
     "output_type": "stream",
     "text": [
      "1998 Terminado\n",
      "1999 Terminado\n",
      "2000 Terminado\n",
      "2001 Terminado\n",
      "2002 Terminado\n",
      "2003 Terminado\n",
      "2004 Terminado\n",
      "2005 Terminado\n",
      "2006 Terminado\n",
      "2007 Terminado\n",
      "2008 Terminado\n",
      "2009 Terminado\n",
      "2010 Terminado\n",
      "2011 Terminado\n",
      "2012 Terminado\n",
      "2013 Terminado\n",
      "2014 Terminado\n",
      "2015 Terminado\n",
      "2016 Terminado\n",
      "2017 Terminado\n",
      "2018 Terminado\n",
      "2019 Terminado\n"
     ]
    }
   ],
   "source": [
    "ano_inicio = 1998\n",
    "ano_fim = 2019\n",
    "\n",
    "for ano in range(ano_inicio, ano_fim + 1):\n",
    "    temp = pd.DataFrame()\n",
    "    for chunk in pd.read_csv(pastENEM + 'MICRODADOS_ENEM_' + str(ano) + '.csv', encoding = 'Latin1', \n",
    "                             delimiter = ';', chunksize=300000,  low_memory = False):\n",
    "        temp = pd.concat([temp, chunk], ignore_index=True)\n",
    "        temp = temp.dropna()\n",
    "        \n",
    "        #temp['CO_UF'] = temp['COD_MUN_RESID'].apply(str).str.slice(0,2)\n",
    "        #temp.to_csv(pastENEM + '/MICRODADOS_ENEM_' + str(ano) + '.csv', index = False, sep = ';', encoding = 'Latin1')\n",
    "        del chunk; gc.collect()\n",
    "    dff_Enem.update({ano: temp})\n",
    "    del temp; gc.collect()\n",
    "    print(str(ano) + ' Terminado')"
   ]
  },
  {
   "cell_type": "code",
   "execution_count": null,
   "id": "b3ee5bdd-f987-46e7-8403-3ab8cc4bc40a",
   "metadata": {},
   "outputs": [],
   "source": [
    "ano_inicio = 2004\n",
    "ano_fim = 2019\n",
    "\n",
    "for ano in range(ano_inicio, ano_fim + 1):\n",
    "    temp = pd.DataFrame()\n",
    "    for chunk in pd.read_csv(pastENADE + 'MICRODADOS_ENADE_' + str(ano) + '.csv', encoding = 'Latin1', \n",
    "                             delimiter = ';', chunksize=300000,  low_memory = False):\n",
    "        temp = pd.concat([temp, chunk], ignore_index=True)\n",
    "        temp = temp.dropna()\n",
    "        \n",
    "        #temp['CO_UF'] = temp['COD_MUN_RESID'].apply(str).str.slice(0,2)\n",
    "        #temp.to_csv(pastENEM + '/MICRODADOS_ENEM_' + str(ano) + '.csv', index = False, sep = ';', encoding = 'Latin1')\n",
    "        del chunk; gc.collect()\n",
    "    dff_Enade.update({ano: temp})\n",
    "    del temp; gc.collect()\n",
    "    print(str(ano) + ' Terminado')"
   ]
  },
  {
   "cell_type": "code",
   "execution_count": 133,
   "id": "4a3534ba-eacc-4d0c-8f06-2795d6b9edbb",
   "metadata": {},
   "outputs": [
    {
     "name": "stdout",
     "output_type": "stream",
     "text": [
      "2011\n",
      "2012\n",
      "2013\n",
      "2014\n",
      "2015\n",
      "2016\n",
      "2017\n",
      "2018\n",
      "2019\n"
     ]
    }
   ],
   "source": [
    "ano_inicio = 2011\n",
    "ano_fim = 2019\n",
    "for ano in range(ano_inicio, ano_fim + 1):\n",
    "    dff_Enem[ano]['CO_UF'] = dff_Enem[ano]['COD_MUN_RES'].apply(str).str.slice(0,2)\n",
    "    print(ano)"
   ]
  },
  {
   "cell_type": "code",
   "execution_count": 135,
   "id": "364a9d5a-ad82-40cf-9d9b-7b6d137081ab",
   "metadata": {},
   "outputs": [
    {
     "data": {
      "text/html": [
       "<div>\n",
       "<style scoped>\n",
       "    .dataframe tbody tr th:only-of-type {\n",
       "        vertical-align: middle;\n",
       "    }\n",
       "\n",
       "    .dataframe tbody tr th {\n",
       "        vertical-align: top;\n",
       "    }\n",
       "\n",
       "    .dataframe thead th {\n",
       "        text-align: right;\n",
       "    }\n",
       "</style>\n",
       "<table border=\"1\" class=\"dataframe\">\n",
       "  <thead>\n",
       "    <tr style=\"text-align: right;\">\n",
       "      <th></th>\n",
       "      <th>COD_MUN_RES</th>\n",
       "      <th>OB_NT_CN</th>\n",
       "      <th>OB_NT_CH</th>\n",
       "      <th>OB_NT_LC</th>\n",
       "      <th>OB_NT_MT</th>\n",
       "      <th>RD_NT_COMP1</th>\n",
       "      <th>RD_NT_COMP2</th>\n",
       "      <th>RD_NT_COMP3</th>\n",
       "      <th>RD_NT_COMP4</th>\n",
       "      <th>RD_NT_COMP5</th>\n",
       "      <th>NU_IDADE</th>\n",
       "      <th>CO_UF</th>\n",
       "    </tr>\n",
       "  </thead>\n",
       "  <tbody>\n",
       "    <tr>\n",
       "      <th>0</th>\n",
       "      <td>3548708</td>\n",
       "      <td>577.10</td>\n",
       "      <td>576.00</td>\n",
       "      <td>575.50</td>\n",
       "      <td>737.10</td>\n",
       "      <td>140.0</td>\n",
       "      <td>140.0</td>\n",
       "      <td>140.0</td>\n",
       "      <td>140.0</td>\n",
       "      <td>60.0</td>\n",
       "      <td>28</td>\n",
       "      <td>35</td>\n",
       "    </tr>\n",
       "    <tr>\n",
       "      <th>1</th>\n",
       "      <td>4125506</td>\n",
       "      <td>.</td>\n",
       "      <td>.</td>\n",
       "      <td>.</td>\n",
       "      <td>.</td>\n",
       "      <td>0.0</td>\n",
       "      <td>0.0</td>\n",
       "      <td>0.0</td>\n",
       "      <td>0.0</td>\n",
       "      <td>0.0</td>\n",
       "      <td>22</td>\n",
       "      <td>41</td>\n",
       "    </tr>\n",
       "    <tr>\n",
       "      <th>2</th>\n",
       "      <td>4314902</td>\n",
       "      <td>491.40</td>\n",
       "      <td>435.30</td>\n",
       "      <td>491.60</td>\n",
       "      <td>467.80</td>\n",
       "      <td>140.0</td>\n",
       "      <td>60.0</td>\n",
       "      <td>100.0</td>\n",
       "      <td>140.0</td>\n",
       "      <td>100.0</td>\n",
       "      <td>33</td>\n",
       "      <td>43</td>\n",
       "    </tr>\n",
       "    <tr>\n",
       "      <th>3</th>\n",
       "      <td>3300456</td>\n",
       "      <td>424.40</td>\n",
       "      <td>422.40</td>\n",
       "      <td>360.80</td>\n",
       "      <td>406.70</td>\n",
       "      <td>100.0</td>\n",
       "      <td>100.0</td>\n",
       "      <td>100.0</td>\n",
       "      <td>80.0</td>\n",
       "      <td>40.0</td>\n",
       "      <td>24</td>\n",
       "      <td>33</td>\n",
       "    </tr>\n",
       "    <tr>\n",
       "      <th>4</th>\n",
       "      <td>2304400</td>\n",
       "      <td>648.80</td>\n",
       "      <td>583.20</td>\n",
       "      <td>571.50</td>\n",
       "      <td>769.30</td>\n",
       "      <td>120.0</td>\n",
       "      <td>120.0</td>\n",
       "      <td>100.0</td>\n",
       "      <td>100.0</td>\n",
       "      <td>60.0</td>\n",
       "      <td>25</td>\n",
       "      <td>23</td>\n",
       "    </tr>\n",
       "    <tr>\n",
       "      <th>...</th>\n",
       "      <td>...</td>\n",
       "      <td>...</td>\n",
       "      <td>...</td>\n",
       "      <td>...</td>\n",
       "      <td>...</td>\n",
       "      <td>...</td>\n",
       "      <td>...</td>\n",
       "      <td>...</td>\n",
       "      <td>...</td>\n",
       "      <td>...</td>\n",
       "      <td>...</td>\n",
       "      <td>...</td>\n",
       "    </tr>\n",
       "    <tr>\n",
       "      <th>299995</th>\n",
       "      <td>3548906</td>\n",
       "      <td>449.00</td>\n",
       "      <td>492.20</td>\n",
       "      <td>492.90</td>\n",
       "      <td>477.80</td>\n",
       "      <td>100.0</td>\n",
       "      <td>140.0</td>\n",
       "      <td>120.0</td>\n",
       "      <td>120.0</td>\n",
       "      <td>80.0</td>\n",
       "      <td>18</td>\n",
       "      <td>35</td>\n",
       "    </tr>\n",
       "    <tr>\n",
       "      <th>299996</th>\n",
       "      <td>3170206</td>\n",
       "      <td>565.30</td>\n",
       "      <td>612.00</td>\n",
       "      <td>612.10</td>\n",
       "      <td>539.80</td>\n",
       "      <td>160.0</td>\n",
       "      <td>120.0</td>\n",
       "      <td>120.0</td>\n",
       "      <td>120.0</td>\n",
       "      <td>80.0</td>\n",
       "      <td>19</td>\n",
       "      <td>31</td>\n",
       "    </tr>\n",
       "    <tr>\n",
       "      <th>299997</th>\n",
       "      <td>1302603</td>\n",
       "      <td>422.20</td>\n",
       "      <td>434.70</td>\n",
       "      <td>501.90</td>\n",
       "      <td>407.00</td>\n",
       "      <td>140.0</td>\n",
       "      <td>160.0</td>\n",
       "      <td>100.0</td>\n",
       "      <td>80.0</td>\n",
       "      <td>100.0</td>\n",
       "      <td>24</td>\n",
       "      <td>13</td>\n",
       "    </tr>\n",
       "    <tr>\n",
       "      <th>299998</th>\n",
       "      <td>3547809</td>\n",
       "      <td>489.60</td>\n",
       "      <td>455.20</td>\n",
       "      <td>542.60</td>\n",
       "      <td>496.20</td>\n",
       "      <td>160.0</td>\n",
       "      <td>200.0</td>\n",
       "      <td>160.0</td>\n",
       "      <td>160.0</td>\n",
       "      <td>120.0</td>\n",
       "      <td>17</td>\n",
       "      <td>35</td>\n",
       "    </tr>\n",
       "    <tr>\n",
       "      <th>299999</th>\n",
       "      <td>5103403</td>\n",
       "      <td>.</td>\n",
       "      <td>.</td>\n",
       "      <td>.</td>\n",
       "      <td>.</td>\n",
       "      <td>0.0</td>\n",
       "      <td>0.0</td>\n",
       "      <td>0.0</td>\n",
       "      <td>0.0</td>\n",
       "      <td>0.0</td>\n",
       "      <td>28</td>\n",
       "      <td>51</td>\n",
       "    </tr>\n",
       "  </tbody>\n",
       "</table>\n",
       "<p>300000 rows × 12 columns</p>\n",
       "</div>"
      ],
      "text/plain": [
       "        COD_MUN_RES OB_NT_CN OB_NT_CH OB_NT_LC OB_NT_MT  RD_NT_COMP1  \\\n",
       "0           3548708   577.10   576.00   575.50   737.10        140.0   \n",
       "1           4125506      .        .        .        .            0.0   \n",
       "2           4314902   491.40   435.30   491.60   467.80        140.0   \n",
       "3           3300456   424.40   422.40   360.80   406.70        100.0   \n",
       "4           2304400   648.80   583.20   571.50   769.30        120.0   \n",
       "...             ...      ...      ...      ...      ...          ...   \n",
       "299995      3548906   449.00   492.20   492.90   477.80        100.0   \n",
       "299996      3170206   565.30   612.00   612.10   539.80        160.0   \n",
       "299997      1302603   422.20   434.70   501.90   407.00        140.0   \n",
       "299998      3547809   489.60   455.20   542.60   496.20        160.0   \n",
       "299999      5103403      .        .        .        .            0.0   \n",
       "\n",
       "        RD_NT_COMP2  RD_NT_COMP3  RD_NT_COMP4  RD_NT_COMP5  NU_IDADE CO_UF  \n",
       "0             140.0        140.0        140.0         60.0        28    35  \n",
       "1               0.0          0.0          0.0          0.0        22    41  \n",
       "2              60.0        100.0        140.0        100.0        33    43  \n",
       "3             100.0        100.0         80.0         40.0        24    33  \n",
       "4             120.0        100.0        100.0         60.0        25    23  \n",
       "...             ...          ...          ...          ...       ...   ...  \n",
       "299995        140.0        120.0        120.0         80.0        18    35  \n",
       "299996        120.0        120.0        120.0         80.0        19    31  \n",
       "299997        160.0        100.0         80.0        100.0        24    13  \n",
       "299998        200.0        160.0        160.0        120.0        17    35  \n",
       "299999          0.0          0.0          0.0          0.0        28    51  \n",
       "\n",
       "[300000 rows x 12 columns]"
      ]
     },
     "execution_count": 135,
     "metadata": {},
     "output_type": "execute_result"
    }
   ],
   "source": [
    "dff_Enem[2011]"
   ]
  },
  {
   "cell_type": "code",
   "execution_count": null,
   "id": "09c49367-0e10-4175-be4e-243601b059d7",
   "metadata": {},
   "outputs": [
    {
     "name": "stdout",
     "output_type": "stream",
     "text": [
      "1998\n",
      "1999\n",
      "2000\n",
      "2001\n",
      "2002\n",
      "2003\n",
      "2004\n",
      "2005\n",
      "2006\n",
      "2007\n",
      "2008\n",
      "2009\n",
      "2010\n",
      "2011\n",
      "2012\n",
      "2013\n",
      "2014\n",
      "2015\n",
      "2016\n",
      "2017\n",
      "2018\n"
     ]
    }
   ],
   "source": [
    "ano_inicio = 1998\n",
    "ano_fim = 2019\n",
    "for ano in range(ano_inicio, ano_fim + 1):\n",
    "    #cola = df[ano].columns.values\n",
    "    #coln = [p.upper() for p in cola]\n",
    "    #dff.update({ano: df[ano].rename(columns={cola[i] : coln[i] for i in range(0,len(coln))}, inplace = False)})\n",
    "    dff_Enem[ano].to_csv(pastENEM + 'MICRODADOS_ENEM_' + str(ano) + '.csv', index = False, sep = ';', encoding = 'Latin1')\n",
    "    print(ano)"
   ]
  },
  {
   "cell_type": "code",
   "execution_count": 112,
   "id": "c46b6f6b-d049-48b3-8bb7-b7471eef48ac",
   "metadata": {},
   "outputs": [
    {
     "name": "stdout",
     "output_type": "stream",
     "text": [
      "1998\n",
      "1999\n",
      "2000\n",
      "2001\n",
      "2002\n",
      "2003\n",
      "2004\n",
      "2005\n",
      "2006\n",
      "2007\n",
      "2008\n"
     ]
    }
   ],
   "source": [
    "amostras = 10000\n",
    "df = []\n",
    "\n",
    "ano_inicio = 1998\n",
    "ano_fim = 2008\n",
    "\n",
    "\n",
    "coln = ['COD_MUN_RESID', 'OB_NT_C1', 'OB_NT_C2','OB_NT_C3', 'OB_NT_C4', 'OB_NT_C5',\n",
    "        'RD_NT_C1', 'RD_NT_C2', 'RD_NT_C3', 'RD_NT_C4', 'RD_NT_C5']\n",
    "\n",
    "colob = ['OB_NT_C1', 'OB_NT_C2','OB_NT_C3', 'OB_NT_C4', 'OB_NT_C5']\n",
    "colre = ['RD_NT_C1', 'RD_NT_C2', 'RD_NT_C3', 'RD_NT_C4', 'RD_NT_C5']\n",
    "\n",
    "cols = ['CO_UF', 'ANO', 'NU_OB', 'NU_RE', 'RAZAO']\n",
    "\n",
    "for ano in range(ano_inicio, ano_fim + 1):\n",
    "    \n",
    "    temp = pd.DataFrame()\n",
    "    temp = dff_Enem[ano].copy()\n",
    "    ran = np.random.randint(0,temp.shape[0], amostras)\n",
    "    temp = temp.reset_index(drop = True)\n",
    "    temp = temp.loc[ran]\n",
    "    \n",
    "    temp = temp.reset_index(drop = True)\n",
    "    \n",
    "    col = temp.columns.values\n",
    "    temp = temp[col]\n",
    "    temp = temp.rename(columns={col[i] : coln[i] for i in range(0,len(coln))}, inplace = False)\n",
    "    \n",
    "    col = temp.columns.values\n",
    "    col = col[1:len(col)]\n",
    "    for j in col:\n",
    "        temp[j] = pd.to_numeric(temp[j], errors='coerce')\n",
    "    \n",
    "    media_global = temp[col].mean().sum()\n",
    "    \n",
    "    media_individual = temp[col].sum(axis = 1)\n",
    "    temp['CO_UF'] = temp['COD_MUN_RESID'].apply(str).str.slice(0,2)\n",
    "    temp['NU_OB'] = temp[colob].sum(axis = 1)\n",
    "    temp['NU_RE'] = temp[colre].sum(axis = 1)\n",
    "    temp['ANO'] = [ano]*temp.shape[0]\n",
    "    temp['RAZAO'] = media_individual/media_global\n",
    "    \n",
    "    \n",
    "    df.append(temp[cols])\n",
    "    print(ano)"
   ]
  },
  {
   "cell_type": "code",
   "execution_count": 113,
   "id": "1fd14b08-f5bb-4de9-8362-61d52bf9c8a7",
   "metadata": {},
   "outputs": [
    {
     "name": "stdout",
     "output_type": "stream",
     "text": [
      "2008\n",
      "2009\n",
      "2010\n",
      "2011\n",
      "2012\n",
      "2013\n",
      "2014\n",
      "2015\n",
      "2016\n",
      "2017\n",
      "2018\n",
      "2019\n"
     ]
    }
   ],
   "source": [
    "ano_inicio = 2008\n",
    "ano_fim = 2019\n",
    "\n",
    "\n",
    "coln = ['COD_MUN_RESID', 'OB_NT_C1', 'OB_NT_C2','OB_NT_C3', 'OB_NT_C4',\n",
    "        'RD_NT_C1', 'RD_NT_C2', 'RD_NT_C3', 'RD_NT_C4', 'RD_NT_C5']\n",
    "\n",
    "colob = ['OB_NT_C1', 'OB_NT_C2','OB_NT_C3', 'OB_NT_C4']\n",
    "colre = ['RD_NT_C1', 'RD_NT_C2', 'RD_NT_C3', 'RD_NT_C4', 'RD_NT_C5']\n",
    "\n",
    "cols = ['CO_UF', 'ANO', 'NU_OB', 'NU_RE', 'RAZAO']\n",
    "\n",
    "for ano in range(ano_inicio, ano_fim + 1):\n",
    "   \n",
    "    temp = pd.DataFrame()\n",
    "    temp = dff_Enem[ano].copy()\n",
    "    ran = np.random.randint(0,temp.shape[0], amostras)\n",
    "    temp = temp.reset_index(drop = True)\n",
    "    temp = temp.loc[ran]\n",
    "    \n",
    "    temp = temp.reset_index(drop = True)\n",
    "    col = temp.columns.values\n",
    "    temp = temp[col]\n",
    "    temp = temp.rename(columns={col[i] : coln[i] for i in range(0,len(coln))}, inplace = False)\n",
    "    \n",
    "    col = temp.columns.values\n",
    "    col = col[1:len(col)]\n",
    "    for j in col:\n",
    "        temp[j] = pd.to_numeric(temp[j], errors='coerce')\n",
    "    \n",
    "    media_global = temp[col].mean().sum()\n",
    "    media_individual = temp[col].sum(axis = 1)\n",
    "    \n",
    "    \n",
    "        \n",
    "    temp['CO_UF'] = temp['COD_MUN_RESID'].apply(str).str.slice(0,2)\n",
    "    temp['NU_OB'] = temp[colob].sum(axis = 1)\n",
    "    temp['NU_RE'] = temp[colre].sum(axis = 1)\n",
    "    temp['ANO'] = [ano]*temp.shape[0]\n",
    "    temp['RAZAO'] = media_individual/media_global\n",
    "    \n",
    "    \n",
    "    df.append(temp[cols])\n",
    "    print(ano)"
   ]
  },
  {
   "cell_type": "code",
   "execution_count": 118,
   "id": "efd60790-a150-4beb-a032-7090d1da4e82",
   "metadata": {},
   "outputs": [],
   "source": [
    "df2  = pd.concat(df, ignore_index=True)\n",
    "df3 = df2.copy()\n",
    "df3['NU_OB'] = (df3['NU_OB'] - df3['NU_OB'].min())/(df3['NU_OB'].max() - df3['NU_OB'].min())\n",
    "\n",
    "df3['NU_RE'] = (df3['NU_RE'] - df3['NU_RE'].min())/(df3['NU_RE'].max() - df3['NU_RE'].min())"
   ]
  },
  {
   "cell_type": "code",
   "execution_count": 119,
   "id": "7045b74e-07a8-4cb2-92dc-0cd94efb85ae",
   "metadata": {},
   "outputs": [],
   "source": [
    "x = pd.get_dummies(df3['CO_UF'])\n",
    "X = df3.drop(columns = ['RAZAO', 'CO_UF'], axis = 1)\n",
    "X =  pd.concat([x, X], axis = 1)\n",
    "X = X.values\n",
    "y = df3['RAZAO'].values\n",
    "#label = X.columns()"
   ]
  },
  {
   "cell_type": "code",
   "execution_count": 120,
   "id": "11e158ae-b5a0-4fba-a1b3-18cc01d55c5b",
   "metadata": {},
   "outputs": [],
   "source": [
    "norm = 'true'\n",
    "n = 10\n",
    "rs = 0\n",
    "kf = KFold(n_splits=n)\n",
    "r = []\n"
   ]
  },
  {
   "cell_type": "code",
   "execution_count": 121,
   "id": "aa1ef6db-2ce5-4c25-bffd-97909e4bc618",
   "metadata": {},
   "outputs": [],
   "source": [
    "result = []\n",
    "for train_index, test_index in kf.split(X):\n",
    "    X_train, X_test = X[train_index], X[test_index]\n",
    "    y_train, y_test = y[train_index], y[test_index]\n",
    "\n",
    "    reg = LinearRegression().fit(X_train, y_train)\n",
    "    y_pred = reg.predict(X_test)\n",
    "    result.append(np.sqrt(metrics.mean_squared_error(y_test, y_pred)))\n",
    "r.append([sum(result)/len(result)])"
   ]
  },
  {
   "cell_type": "code",
   "execution_count": 122,
   "id": "db9a2b40-5ada-46e6-8d07-d8b33f94f05c",
   "metadata": {},
   "outputs": [],
   "source": [
    "for train_index, test_index in kf.split(X):\n",
    "    X_train, X_test = X[train_index], X[test_index]\n",
    "    y_train, y_test = y[train_index], y[test_index]\n",
    "\n",
    "    reg = MLPRegressor(random_state=1, max_iter=500).fit(X_train, y_train)\n",
    "    y_pred = reg.predict(X_test)\n",
    "    result.append(np.sqrt(metrics.mean_squared_error(y_test, y_pred)))\n",
    "r.append([sum(result)/len(result)])"
   ]
  },
  {
   "cell_type": "code",
   "execution_count": 123,
   "id": "5caaf1b3-5674-4b06-a197-5aa107dbb5fe",
   "metadata": {},
   "outputs": [],
   "source": [
    "for train_index, test_index in kf.split(X):\n",
    "    X_train, X_test = X[train_index], X[test_index]\n",
    "    y_train, y_test = y[train_index], y[test_index]\n",
    "\n",
    "    reg = RandomForestRegressor(max_depth=2, random_state=0).fit(X_train, y_train)\n",
    "    y_pred = reg.predict(X_test)\n",
    "    result.append(np.sqrt(metrics.mean_squared_error(y_test, y_pred)))\n",
    "r.append([sum(result)/len(result)])"
   ]
  },
  {
   "cell_type": "code",
   "execution_count": 134,
   "id": "e07a7cdb-225f-4def-ba15-de14d773e38e",
   "metadata": {},
   "outputs": [
    {
     "name": "stdout",
     "output_type": "stream",
     "text": [
      "120958\n",
      "307583\n",
      "378305\n",
      "1607230\n",
      "1819160\n",
      "1864218\n",
      "1533718\n",
      "2963953\n",
      "3561437\n",
      "3390525\n",
      "3930741\n",
      "2425600\n",
      "3164852\n",
      "300000\n",
      "5791065\n",
      "5007734\n",
      "5947748\n",
      "5604850\n",
      "5818376\n",
      "4426675\n",
      "3893671\n",
      "3701947\n"
     ]
    }
   ],
   "source": [
    "no_inicio = 1998\n",
    "ano_fim = 2019\n",
    "\n",
    "q_provas = []\n",
    "for ano in range(1998, 2019 + 1):\n",
    "    q_provas.append(dff_Enem[ano].shape[0])\n",
    "    print(dff_Enem[ano].shape[0])"
   ]
  },
  {
   "cell_type": "code",
   "execution_count": 135,
   "id": "a22a11d2-31f8-4a99-89ad-a26dfccf4393",
   "metadata": {},
   "outputs": [
    {
     "data": {
      "application/vnd.plotly.v1+json": {
       "config": {
        "plotlyServerURL": "https://plot.ly"
       },
       "data": [
        {
         "hovertemplate": "Ano=%{x}<br>Provas Feitas=%{y}<extra></extra>",
         "legendgroup": "",
         "line": {
          "color": "#636efa",
          "dash": "solid"
         },
         "mode": "lines",
         "name": "",
         "orientation": "v",
         "showlegend": false,
         "type": "scatter",
         "x": [
          1998,
          1999,
          2000,
          2001,
          2002,
          2003,
          2004,
          2005,
          2006,
          2007,
          2008,
          2009,
          2010,
          2011,
          2012,
          2013,
          2014,
          2015,
          2016,
          2017,
          2018,
          2019
         ],
         "xaxis": "x",
         "y": [
          120958,
          307583,
          378305,
          1607230,
          1819160,
          1864218,
          1533718,
          2963953,
          3561437,
          3390525,
          3930741,
          2425600,
          3164852,
          300000,
          5791065,
          5007734,
          5947748,
          5604850,
          5818376,
          4426675,
          3893671,
          3701947
         ],
         "yaxis": "y"
        }
       ],
       "layout": {
        "autosize": true,
        "legend": {
         "tracegroupgap": 0
        },
        "template": {
         "data": {
          "bar": [
           {
            "error_x": {
             "color": "#2a3f5f"
            },
            "error_y": {
             "color": "#2a3f5f"
            },
            "marker": {
             "line": {
              "color": "#E5ECF6",
              "width": 0.5
             },
             "pattern": {
              "fillmode": "overlay",
              "size": 10,
              "solidity": 0.2
             }
            },
            "type": "bar"
           }
          ],
          "barpolar": [
           {
            "marker": {
             "line": {
              "color": "#E5ECF6",
              "width": 0.5
             },
             "pattern": {
              "fillmode": "overlay",
              "size": 10,
              "solidity": 0.2
             }
            },
            "type": "barpolar"
           }
          ],
          "carpet": [
           {
            "aaxis": {
             "endlinecolor": "#2a3f5f",
             "gridcolor": "white",
             "linecolor": "white",
             "minorgridcolor": "white",
             "startlinecolor": "#2a3f5f"
            },
            "baxis": {
             "endlinecolor": "#2a3f5f",
             "gridcolor": "white",
             "linecolor": "white",
             "minorgridcolor": "white",
             "startlinecolor": "#2a3f5f"
            },
            "type": "carpet"
           }
          ],
          "choropleth": [
           {
            "colorbar": {
             "outlinewidth": 0,
             "ticks": ""
            },
            "type": "choropleth"
           }
          ],
          "contour": [
           {
            "colorbar": {
             "outlinewidth": 0,
             "ticks": ""
            },
            "colorscale": [
             [
              0,
              "#0d0887"
             ],
             [
              0.1111111111111111,
              "#46039f"
             ],
             [
              0.2222222222222222,
              "#7201a8"
             ],
             [
              0.3333333333333333,
              "#9c179e"
             ],
             [
              0.4444444444444444,
              "#bd3786"
             ],
             [
              0.5555555555555556,
              "#d8576b"
             ],
             [
              0.6666666666666666,
              "#ed7953"
             ],
             [
              0.7777777777777778,
              "#fb9f3a"
             ],
             [
              0.8888888888888888,
              "#fdca26"
             ],
             [
              1,
              "#f0f921"
             ]
            ],
            "type": "contour"
           }
          ],
          "contourcarpet": [
           {
            "colorbar": {
             "outlinewidth": 0,
             "ticks": ""
            },
            "type": "contourcarpet"
           }
          ],
          "heatmap": [
           {
            "colorbar": {
             "outlinewidth": 0,
             "ticks": ""
            },
            "colorscale": [
             [
              0,
              "#0d0887"
             ],
             [
              0.1111111111111111,
              "#46039f"
             ],
             [
              0.2222222222222222,
              "#7201a8"
             ],
             [
              0.3333333333333333,
              "#9c179e"
             ],
             [
              0.4444444444444444,
              "#bd3786"
             ],
             [
              0.5555555555555556,
              "#d8576b"
             ],
             [
              0.6666666666666666,
              "#ed7953"
             ],
             [
              0.7777777777777778,
              "#fb9f3a"
             ],
             [
              0.8888888888888888,
              "#fdca26"
             ],
             [
              1,
              "#f0f921"
             ]
            ],
            "type": "heatmap"
           }
          ],
          "heatmapgl": [
           {
            "colorbar": {
             "outlinewidth": 0,
             "ticks": ""
            },
            "colorscale": [
             [
              0,
              "#0d0887"
             ],
             [
              0.1111111111111111,
              "#46039f"
             ],
             [
              0.2222222222222222,
              "#7201a8"
             ],
             [
              0.3333333333333333,
              "#9c179e"
             ],
             [
              0.4444444444444444,
              "#bd3786"
             ],
             [
              0.5555555555555556,
              "#d8576b"
             ],
             [
              0.6666666666666666,
              "#ed7953"
             ],
             [
              0.7777777777777778,
              "#fb9f3a"
             ],
             [
              0.8888888888888888,
              "#fdca26"
             ],
             [
              1,
              "#f0f921"
             ]
            ],
            "type": "heatmapgl"
           }
          ],
          "histogram": [
           {
            "marker": {
             "pattern": {
              "fillmode": "overlay",
              "size": 10,
              "solidity": 0.2
             }
            },
            "type": "histogram"
           }
          ],
          "histogram2d": [
           {
            "colorbar": {
             "outlinewidth": 0,
             "ticks": ""
            },
            "colorscale": [
             [
              0,
              "#0d0887"
             ],
             [
              0.1111111111111111,
              "#46039f"
             ],
             [
              0.2222222222222222,
              "#7201a8"
             ],
             [
              0.3333333333333333,
              "#9c179e"
             ],
             [
              0.4444444444444444,
              "#bd3786"
             ],
             [
              0.5555555555555556,
              "#d8576b"
             ],
             [
              0.6666666666666666,
              "#ed7953"
             ],
             [
              0.7777777777777778,
              "#fb9f3a"
             ],
             [
              0.8888888888888888,
              "#fdca26"
             ],
             [
              1,
              "#f0f921"
             ]
            ],
            "type": "histogram2d"
           }
          ],
          "histogram2dcontour": [
           {
            "colorbar": {
             "outlinewidth": 0,
             "ticks": ""
            },
            "colorscale": [
             [
              0,
              "#0d0887"
             ],
             [
              0.1111111111111111,
              "#46039f"
             ],
             [
              0.2222222222222222,
              "#7201a8"
             ],
             [
              0.3333333333333333,
              "#9c179e"
             ],
             [
              0.4444444444444444,
              "#bd3786"
             ],
             [
              0.5555555555555556,
              "#d8576b"
             ],
             [
              0.6666666666666666,
              "#ed7953"
             ],
             [
              0.7777777777777778,
              "#fb9f3a"
             ],
             [
              0.8888888888888888,
              "#fdca26"
             ],
             [
              1,
              "#f0f921"
             ]
            ],
            "type": "histogram2dcontour"
           }
          ],
          "mesh3d": [
           {
            "colorbar": {
             "outlinewidth": 0,
             "ticks": ""
            },
            "type": "mesh3d"
           }
          ],
          "parcoords": [
           {
            "line": {
             "colorbar": {
              "outlinewidth": 0,
              "ticks": ""
             }
            },
            "type": "parcoords"
           }
          ],
          "pie": [
           {
            "automargin": true,
            "type": "pie"
           }
          ],
          "scatter": [
           {
            "marker": {
             "colorbar": {
              "outlinewidth": 0,
              "ticks": ""
             }
            },
            "type": "scatter"
           }
          ],
          "scatter3d": [
           {
            "line": {
             "colorbar": {
              "outlinewidth": 0,
              "ticks": ""
             }
            },
            "marker": {
             "colorbar": {
              "outlinewidth": 0,
              "ticks": ""
             }
            },
            "type": "scatter3d"
           }
          ],
          "scattercarpet": [
           {
            "marker": {
             "colorbar": {
              "outlinewidth": 0,
              "ticks": ""
             }
            },
            "type": "scattercarpet"
           }
          ],
          "scattergeo": [
           {
            "marker": {
             "colorbar": {
              "outlinewidth": 0,
              "ticks": ""
             }
            },
            "type": "scattergeo"
           }
          ],
          "scattergl": [
           {
            "marker": {
             "colorbar": {
              "outlinewidth": 0,
              "ticks": ""
             }
            },
            "type": "scattergl"
           }
          ],
          "scattermapbox": [
           {
            "marker": {
             "colorbar": {
              "outlinewidth": 0,
              "ticks": ""
             }
            },
            "type": "scattermapbox"
           }
          ],
          "scatterpolar": [
           {
            "marker": {
             "colorbar": {
              "outlinewidth": 0,
              "ticks": ""
             }
            },
            "type": "scatterpolar"
           }
          ],
          "scatterpolargl": [
           {
            "marker": {
             "colorbar": {
              "outlinewidth": 0,
              "ticks": ""
             }
            },
            "type": "scatterpolargl"
           }
          ],
          "scatterternary": [
           {
            "marker": {
             "colorbar": {
              "outlinewidth": 0,
              "ticks": ""
             }
            },
            "type": "scatterternary"
           }
          ],
          "surface": [
           {
            "colorbar": {
             "outlinewidth": 0,
             "ticks": ""
            },
            "colorscale": [
             [
              0,
              "#0d0887"
             ],
             [
              0.1111111111111111,
              "#46039f"
             ],
             [
              0.2222222222222222,
              "#7201a8"
             ],
             [
              0.3333333333333333,
              "#9c179e"
             ],
             [
              0.4444444444444444,
              "#bd3786"
             ],
             [
              0.5555555555555556,
              "#d8576b"
             ],
             [
              0.6666666666666666,
              "#ed7953"
             ],
             [
              0.7777777777777778,
              "#fb9f3a"
             ],
             [
              0.8888888888888888,
              "#fdca26"
             ],
             [
              1,
              "#f0f921"
             ]
            ],
            "type": "surface"
           }
          ],
          "table": [
           {
            "cells": {
             "fill": {
              "color": "#EBF0F8"
             },
             "line": {
              "color": "white"
             }
            },
            "header": {
             "fill": {
              "color": "#C8D4E3"
             },
             "line": {
              "color": "white"
             }
            },
            "type": "table"
           }
          ]
         },
         "layout": {
          "annotationdefaults": {
           "arrowcolor": "#2a3f5f",
           "arrowhead": 0,
           "arrowwidth": 1
          },
          "autotypenumbers": "strict",
          "coloraxis": {
           "colorbar": {
            "outlinewidth": 0,
            "ticks": ""
           }
          },
          "colorscale": {
           "diverging": [
            [
             0,
             "#8e0152"
            ],
            [
             0.1,
             "#c51b7d"
            ],
            [
             0.2,
             "#de77ae"
            ],
            [
             0.3,
             "#f1b6da"
            ],
            [
             0.4,
             "#fde0ef"
            ],
            [
             0.5,
             "#f7f7f7"
            ],
            [
             0.6,
             "#e6f5d0"
            ],
            [
             0.7,
             "#b8e186"
            ],
            [
             0.8,
             "#7fbc41"
            ],
            [
             0.9,
             "#4d9221"
            ],
            [
             1,
             "#276419"
            ]
           ],
           "sequential": [
            [
             0,
             "#0d0887"
            ],
            [
             0.1111111111111111,
             "#46039f"
            ],
            [
             0.2222222222222222,
             "#7201a8"
            ],
            [
             0.3333333333333333,
             "#9c179e"
            ],
            [
             0.4444444444444444,
             "#bd3786"
            ],
            [
             0.5555555555555556,
             "#d8576b"
            ],
            [
             0.6666666666666666,
             "#ed7953"
            ],
            [
             0.7777777777777778,
             "#fb9f3a"
            ],
            [
             0.8888888888888888,
             "#fdca26"
            ],
            [
             1,
             "#f0f921"
            ]
           ],
           "sequentialminus": [
            [
             0,
             "#0d0887"
            ],
            [
             0.1111111111111111,
             "#46039f"
            ],
            [
             0.2222222222222222,
             "#7201a8"
            ],
            [
             0.3333333333333333,
             "#9c179e"
            ],
            [
             0.4444444444444444,
             "#bd3786"
            ],
            [
             0.5555555555555556,
             "#d8576b"
            ],
            [
             0.6666666666666666,
             "#ed7953"
            ],
            [
             0.7777777777777778,
             "#fb9f3a"
            ],
            [
             0.8888888888888888,
             "#fdca26"
            ],
            [
             1,
             "#f0f921"
            ]
           ]
          },
          "colorway": [
           "#636efa",
           "#EF553B",
           "#00cc96",
           "#ab63fa",
           "#FFA15A",
           "#19d3f3",
           "#FF6692",
           "#B6E880",
           "#FF97FF",
           "#FECB52"
          ],
          "font": {
           "color": "#2a3f5f"
          },
          "geo": {
           "bgcolor": "white",
           "lakecolor": "white",
           "landcolor": "#E5ECF6",
           "showlakes": true,
           "showland": true,
           "subunitcolor": "white"
          },
          "hoverlabel": {
           "align": "left"
          },
          "hovermode": "closest",
          "mapbox": {
           "style": "light"
          },
          "paper_bgcolor": "white",
          "plot_bgcolor": "#E5ECF6",
          "polar": {
           "angularaxis": {
            "gridcolor": "white",
            "linecolor": "white",
            "ticks": ""
           },
           "bgcolor": "#E5ECF6",
           "radialaxis": {
            "gridcolor": "white",
            "linecolor": "white",
            "ticks": ""
           }
          },
          "scene": {
           "xaxis": {
            "backgroundcolor": "#E5ECF6",
            "gridcolor": "white",
            "gridwidth": 2,
            "linecolor": "white",
            "showbackground": true,
            "ticks": "",
            "zerolinecolor": "white"
           },
           "yaxis": {
            "backgroundcolor": "#E5ECF6",
            "gridcolor": "white",
            "gridwidth": 2,
            "linecolor": "white",
            "showbackground": true,
            "ticks": "",
            "zerolinecolor": "white"
           },
           "zaxis": {
            "backgroundcolor": "#E5ECF6",
            "gridcolor": "white",
            "gridwidth": 2,
            "linecolor": "white",
            "showbackground": true,
            "ticks": "",
            "zerolinecolor": "white"
           }
          },
          "shapedefaults": {
           "line": {
            "color": "#2a3f5f"
           }
          },
          "ternary": {
           "aaxis": {
            "gridcolor": "white",
            "linecolor": "white",
            "ticks": ""
           },
           "baxis": {
            "gridcolor": "white",
            "linecolor": "white",
            "ticks": ""
           },
           "bgcolor": "#E5ECF6",
           "caxis": {
            "gridcolor": "white",
            "linecolor": "white",
            "ticks": ""
           }
          },
          "title": {
           "x": 0.05
          },
          "xaxis": {
           "automargin": true,
           "gridcolor": "white",
           "linecolor": "white",
           "ticks": "",
           "title": {
            "standoff": 15
           },
           "zerolinecolor": "white",
           "zerolinewidth": 2
          },
          "yaxis": {
           "automargin": true,
           "gridcolor": "white",
           "linecolor": "white",
           "ticks": "",
           "title": {
            "standoff": 15
           },
           "zerolinecolor": "white",
           "zerolinewidth": 2
          }
         }
        },
        "title": {
         "text": "Quatidade de alunos que realização a prova em cada ano"
        },
        "xaxis": {
         "anchor": "y",
         "autorange": true,
         "domain": [
          0,
          1
         ],
         "range": [
          1998,
          2019
         ],
         "title": {
          "text": "Ano"
         },
         "type": "linear"
        },
        "yaxis": {
         "anchor": "x",
         "autorange": true,
         "domain": [
          0,
          1
         ],
         "range": [
          -202752.5555555555,
          6271458.555555556
         ],
         "title": {
          "text": "Provas Feitas"
         },
         "type": "linear"
        }
       }
      },
      "image/png": "[encoded data removed]",
      "text/html": [
       "<div>                            <div id=\"b66ecbd6-c0a7-4aa6-bf82-747cffb98098\" class=\"plotly-graph-div\" style=\"height:525px; width:100%;\"></div>            <script type=\"text/javascript\">                require([\"plotly\"], function(Plotly) {                    window.PLOTLYENV=window.PLOTLYENV || {};                                    if (document.getElementById(\"b66ecbd6-c0a7-4aa6-bf82-747cffb98098\")) {                    Plotly.newPlot(                        \"b66ecbd6-c0a7-4aa6-bf82-747cffb98098\",                        [{\"hovertemplate\":\"Ano=%{x}<br>Provas Feitas=%{y}<extra></extra>\",\"legendgroup\":\"\",\"line\":{\"color\":\"#636efa\",\"dash\":\"solid\"},\"mode\":\"lines\",\"name\":\"\",\"orientation\":\"v\",\"showlegend\":false,\"type\":\"scatter\",\"x\":[1998,1999,2000,2001,2002,2003,2004,2005,2006,2007,2008,2009,2010,2011,2012,2013,2014,2015,2016,2017,2018,2019],\"xaxis\":\"x\",\"y\":[120958,307583,378305,1607230,1819160,1864218,1533718,2963953,3561437,3390525,3930741,2425600,3164852,300000,5791065,5007734,5947748,5604850,5818376,4426675,3893671,3701947],\"yaxis\":\"y\"}],                        {\"legend\":{\"tracegroupgap\":0},\"template\":{\"data\":{\"bar\":[{\"error_x\":{\"color\":\"#2a3f5f\"},\"error_y\":{\"color\":\"#2a3f5f\"},\"marker\":{\"line\":{\"color\":\"#E5ECF6\",\"width\":0.5},\"pattern\":{\"fillmode\":\"overlay\",\"size\":10,\"solidity\":0.2}},\"type\":\"bar\"}],\"barpolar\":[{\"marker\":{\"line\":{\"color\":\"#E5ECF6\",\"width\":0.5},\"pattern\":{\"fillmode\":\"overlay\",\"size\":10,\"solidity\":0.2}},\"type\":\"barpolar\"}],\"carpet\":[{\"aaxis\":{\"endlinecolor\":\"#2a3f5f\",\"gridcolor\":\"white\",\"linecolor\":\"white\",\"minorgridcolor\":\"white\",\"startlinecolor\":\"#2a3f5f\"},\"baxis\":{\"endlinecolor\":\"#2a3f5f\",\"gridcolor\":\"white\",\"linecolor\":\"white\",\"minorgridcolor\":\"white\",\"startlinecolor\":\"#2a3f5f\"},\"type\":\"carpet\"}],\"choropleth\":[{\"colorbar\":{\"outlinewidth\":0,\"ticks\":\"\"},\"type\":\"choropleth\"}],\"contour\":[{\"colorbar\":{\"outlinewidth\":0,\"ticks\":\"\"},\"colorscale\":[[0.0,\"#0d0887\"],[0.1111111111111111,\"#46039f\"],[0.2222222222222222,\"#7201a8\"],[0.3333333333333333,\"#9c179e\"],[0.4444444444444444,\"#bd3786\"],[0.5555555555555556,\"#d8576b\"],[0.6666666666666666,\"#ed7953\"],[0.7777777777777778,\"#fb9f3a\"],[0.8888888888888888,\"#fdca26\"],[1.0,\"#f0f921\"]],\"type\":\"contour\"}],\"contourcarpet\":[{\"colorbar\":{\"outlinewidth\":0,\"ticks\":\"\"},\"type\":\"contourcarpet\"}],\"heatmap\":[{\"colorbar\":{\"outlinewidth\":0,\"ticks\":\"\"},\"colorscale\":[[0.0,\"#0d0887\"],[0.1111111111111111,\"#46039f\"],[0.2222222222222222,\"#7201a8\"],[0.3333333333333333,\"#9c179e\"],[0.4444444444444444,\"#bd3786\"],[0.5555555555555556,\"#d8576b\"],[0.6666666666666666,\"#ed7953\"],[0.7777777777777778,\"#fb9f3a\"],[0.8888888888888888,\"#fdca26\"],[1.0,\"#f0f921\"]],\"type\":\"heatmap\"}],\"heatmapgl\":[{\"colorbar\":{\"outlinewidth\":0,\"ticks\":\"\"},\"colorscale\":[[0.0,\"#0d0887\"],[0.1111111111111111,\"#46039f\"],[0.2222222222222222,\"#7201a8\"],[0.3333333333333333,\"#9c179e\"],[0.4444444444444444,\"#bd3786\"],[0.5555555555555556,\"#d8576b\"],[0.6666666666666666,\"#ed7953\"],[0.7777777777777778,\"#fb9f3a\"],[0.8888888888888888,\"#fdca26\"],[1.0,\"#f0f921\"]],\"type\":\"heatmapgl\"}],\"histogram\":[{\"marker\":{\"pattern\":{\"fillmode\":\"overlay\",\"size\":10,\"solidity\":0.2}},\"type\":\"histogram\"}],\"histogram2d\":[{\"colorbar\":{\"outlinewidth\":0,\"ticks\":\"\"},\"colorscale\":[[0.0,\"#0d0887\"],[0.1111111111111111,\"#46039f\"],[0.2222222222222222,\"#7201a8\"],[0.3333333333333333,\"#9c179e\"],[0.4444444444444444,\"#bd3786\"],[0.5555555555555556,\"#d8576b\"],[0.6666666666666666,\"#ed7953\"],[0.7777777777777778,\"#fb9f3a\"],[0.8888888888888888,\"#fdca26\"],[1.0,\"#f0f921\"]],\"type\":\"histogram2d\"}],\"histogram2dcontour\":[{\"colorbar\":{\"outlinewidth\":0,\"ticks\":\"\"},\"colorscale\":[[0.0,\"#0d0887\"],[0.1111111111111111,\"#46039f\"],[0.2222222222222222,\"#7201a8\"],[0.3333333333333333,\"#9c179e\"],[0.4444444444444444,\"#bd3786\"],[0.5555555555555556,\"#d8576b\"],[0.6666666666666666,\"#ed7953\"],[0.7777777777777778,\"#fb9f3a\"],[0.8888888888888888,\"#fdca26\"],[1.0,\"#f0f921\"]],\"type\":\"histogram2dcontour\"}],\"mesh3d\":[{\"colorbar\":{\"outlinewidth\":0,\"ticks\":\"\"},\"type\":\"mesh3d\"}],\"parcoords\":[{\"line\":{\"colorbar\":{\"outlinewidth\":0,\"ticks\":\"\"}},\"type\":\"parcoords\"}],\"pie\":[{\"automargin\":true,\"type\":\"pie\"}],\"scatter\":[{\"marker\":{\"colorbar\":{\"outlinewidth\":0,\"ticks\":\"\"}},\"type\":\"scatter\"}],\"scatter3d\":[{\"line\":{\"colorbar\":{\"outlinewidth\":0,\"ticks\":\"\"}},\"marker\":{\"colorbar\":{\"outlinewidth\":0,\"ticks\":\"\"}},\"type\":\"scatter3d\"}],\"scattercarpet\":[{\"marker\":{\"colorbar\":{\"outlinewidth\":0,\"ticks\":\"\"}},\"type\":\"scattercarpet\"}],\"scattergeo\":[{\"marker\":{\"colorbar\":{\"outlinewidth\":0,\"ticks\":\"\"}},\"type\":\"scattergeo\"}],\"scattergl\":[{\"marker\":{\"colorbar\":{\"outlinewidth\":0,\"ticks\":\"\"}},\"type\":\"scattergl\"}],\"scattermapbox\":[{\"marker\":{\"colorbar\":{\"outlinewidth\":0,\"ticks\":\"\"}},\"type\":\"scattermapbox\"}],\"scatterpolar\":[{\"marker\":{\"colorbar\":{\"outlinewidth\":0,\"ticks\":\"\"}},\"type\":\"scatterpolar\"}],\"scatterpolargl\":[{\"marker\":{\"colorbar\":{\"outlinewidth\":0,\"ticks\":\"\"}},\"type\":\"scatterpolargl\"}],\"scatterternary\":[{\"marker\":{\"colorbar\":{\"outlinewidth\":0,\"ticks\":\"\"}},\"type\":\"scatterternary\"}],\"surface\":[{\"colorbar\":{\"outlinewidth\":0,\"ticks\":\"\"},\"colorscale\":[[0.0,\"#0d0887\"],[0.1111111111111111,\"#46039f\"],[0.2222222222222222,\"#7201a8\"],[0.3333333333333333,\"#9c179e\"],[0.4444444444444444,\"#bd3786\"],[0.5555555555555556,\"#d8576b\"],[0.6666666666666666,\"#ed7953\"],[0.7777777777777778,\"#fb9f3a\"],[0.8888888888888888,\"#fdca26\"],[1.0,\"#f0f921\"]],\"type\":\"surface\"}],\"table\":[{\"cells\":{\"fill\":{\"color\":\"#EBF0F8\"},\"line\":{\"color\":\"white\"}},\"header\":{\"fill\":{\"color\":\"#C8D4E3\"},\"line\":{\"color\":\"white\"}},\"type\":\"table\"}]},\"layout\":{\"annotationdefaults\":{\"arrowcolor\":\"#2a3f5f\",\"arrowhead\":0,\"arrowwidth\":1},\"autotypenumbers\":\"strict\",\"coloraxis\":{\"colorbar\":{\"outlinewidth\":0,\"ticks\":\"\"}},\"colorscale\":{\"diverging\":[[0,\"#8e0152\"],[0.1,\"#c51b7d\"],[0.2,\"#de77ae\"],[0.3,\"#f1b6da\"],[0.4,\"#fde0ef\"],[0.5,\"#f7f7f7\"],[0.6,\"#e6f5d0\"],[0.7,\"#b8e186\"],[0.8,\"#7fbc41\"],[0.9,\"#4d9221\"],[1,\"#276419\"]],\"sequential\":[[0.0,\"#0d0887\"],[0.1111111111111111,\"#46039f\"],[0.2222222222222222,\"#7201a8\"],[0.3333333333333333,\"#9c179e\"],[0.4444444444444444,\"#bd3786\"],[0.5555555555555556,\"#d8576b\"],[0.6666666666666666,\"#ed7953\"],[0.7777777777777778,\"#fb9f3a\"],[0.8888888888888888,\"#fdca26\"],[1.0,\"#f0f921\"]],\"sequentialminus\":[[0.0,\"#0d0887\"],[0.1111111111111111,\"#46039f\"],[0.2222222222222222,\"#7201a8\"],[0.3333333333333333,\"#9c179e\"],[0.4444444444444444,\"#bd3786\"],[0.5555555555555556,\"#d8576b\"],[0.6666666666666666,\"#ed7953\"],[0.7777777777777778,\"#fb9f3a\"],[0.8888888888888888,\"#fdca26\"],[1.0,\"#f0f921\"]]},\"colorway\":[\"#636efa\",\"#EF553B\",\"#00cc96\",\"#ab63fa\",\"#FFA15A\",\"#19d3f3\",\"#FF6692\",\"#B6E880\",\"#FF97FF\",\"#FECB52\"],\"font\":{\"color\":\"#2a3f5f\"},\"geo\":{\"bgcolor\":\"white\",\"lakecolor\":\"white\",\"landcolor\":\"#E5ECF6\",\"showlakes\":true,\"showland\":true,\"subunitcolor\":\"white\"},\"hoverlabel\":{\"align\":\"left\"},\"hovermode\":\"closest\",\"mapbox\":{\"style\":\"light\"},\"paper_bgcolor\":\"white\",\"plot_bgcolor\":\"#E5ECF6\",\"polar\":{\"angularaxis\":{\"gridcolor\":\"white\",\"linecolor\":\"white\",\"ticks\":\"\"},\"bgcolor\":\"#E5ECF6\",\"radialaxis\":{\"gridcolor\":\"white\",\"linecolor\":\"white\",\"ticks\":\"\"}},\"scene\":{\"xaxis\":{\"backgroundcolor\":\"#E5ECF6\",\"gridcolor\":\"white\",\"gridwidth\":2,\"linecolor\":\"white\",\"showbackground\":true,\"ticks\":\"\",\"zerolinecolor\":\"white\"},\"yaxis\":{\"backgroundcolor\":\"#E5ECF6\",\"gridcolor\":\"white\",\"gridwidth\":2,\"linecolor\":\"white\",\"showbackground\":true,\"ticks\":\"\",\"zerolinecolor\":\"white\"},\"zaxis\":{\"backgroundcolor\":\"#E5ECF6\",\"gridcolor\":\"white\",\"gridwidth\":2,\"linecolor\":\"white\",\"showbackground\":true,\"ticks\":\"\",\"zerolinecolor\":\"white\"}},\"shapedefaults\":{\"line\":{\"color\":\"#2a3f5f\"}},\"ternary\":{\"aaxis\":{\"gridcolor\":\"white\",\"linecolor\":\"white\",\"ticks\":\"\"},\"baxis\":{\"gridcolor\":\"white\",\"linecolor\":\"white\",\"ticks\":\"\"},\"bgcolor\":\"#E5ECF6\",\"caxis\":{\"gridcolor\":\"white\",\"linecolor\":\"white\",\"ticks\":\"\"}},\"title\":{\"x\":0.05},\"xaxis\":{\"automargin\":true,\"gridcolor\":\"white\",\"linecolor\":\"white\",\"ticks\":\"\",\"title\":{\"standoff\":15},\"zerolinecolor\":\"white\",\"zerolinewidth\":2},\"yaxis\":{\"automargin\":true,\"gridcolor\":\"white\",\"linecolor\":\"white\",\"ticks\":\"\",\"title\":{\"standoff\":15},\"zerolinecolor\":\"white\",\"zerolinewidth\":2}}},\"title\":{\"text\":\"Quatidade de alunos que realiza\\u00e7\\u00e3o a prova em cada ano\"},\"xaxis\":{\"anchor\":\"y\",\"domain\":[0.0,1.0],\"title\":{\"text\":\"Ano\"}},\"yaxis\":{\"anchor\":\"x\",\"domain\":[0.0,1.0],\"title\":{\"text\":\"Provas Feitas\"}}},                        {\"responsive\": true}                    ).then(function(){\n",
       "                            \n",
       "var gd = document.getElementById('b66ecbd6-c0a7-4aa6-bf82-747cffb98098');\n",
       "var x = new MutationObserver(function (mutations, observer) {{\n",
       "        var display = window.getComputedStyle(gd).display;\n",
       "        if (!display || display === 'none') {{\n",
       "            console.log([gd, 'removed!']);\n",
       "            Plotly.purge(gd);\n",
       "            observer.disconnect();\n",
       "        }}\n",
       "}});\n",
       "\n",
       "// Listen for the removal of the full notebook cells\n",
       "var notebookContainer = gd.closest('#notebook-container');\n",
       "if (notebookContainer) {{\n",
       "    x.observe(notebookContainer, {childList: true});\n",
       "}}\n",
       "\n",
       "// Listen for the clearing of the current output cell\n",
       "var outputEl = gd.closest('.output');\n",
       "if (outputEl) {{\n",
       "    x.observe(outputEl, {childList: true});\n",
       "}}\n",
       "\n",
       "                        })                };                });            </script>        </div>"
      ]
     },
     "metadata": {},
     "output_type": "display_data"
    }
   ],
   "source": [
    "\n",
    "\n",
    "dd = pd.DataFrame(np.array([range(1998, 2019+1), q_provas]).T, columns = ['Ano', 'Provas Feitas'])\n",
    "\n",
    "\n",
    "fig = px.line(dd, x = 'Ano', y = 'Provas Feitas', \n",
    "             title = 'Quatidade de alunos que realização a prova em cada ano')\n",
    "fig.show()\n",
    "\n",
    "fig.write_image(\"importancia.jpeg\")\n",
    "#plt.plot(ano_enem, q_provas)\n",
    "#plt.title(\"Quatidade de alunos que realização a prova em cada ano\")\n",
    "#plt.xlabel('Ano')\n",
    "#plt.ylabel('Quatidade de aluno que fizeram a prova')\n",
    "#plt.savefig('PrecisaoSensibilidade.jpg')\n",
    "#plt.show()\n"
   ]
  },
  {
   "cell_type": "code",
   "execution_count": 136,
   "id": "e96f49c1-9a2e-4d3a-aed7-021af46b0dc5",
   "metadata": {},
   "outputs": [
    {
     "data": {
      "text/plain": [
       "[[1219486332.491531], [609743166.7162671], [406495444.5729817]]"
      ]
     },
     "execution_count": 136,
     "metadata": {},
     "output_type": "execute_result"
    }
   ],
   "source": [
    "classificadores = ['Random Forest', 'MLP', 'Regressão Linear']\n",
    "r "
   ]
  },
  {
   "cell_type": "code",
   "execution_count": 138,
   "id": "f541d595-be61-4a2e-a86e-d0991aa7ccb6",
   "metadata": {},
   "outputs": [
    {
     "name": "stdout",
     "output_type": "stream",
     "text": [
      "\\begin{tabular}{ll}\n",
      "\\toprule\n",
      " Classificadores &                 EQM \\\\\n",
      "\\midrule\n",
      "   Random Forest & [1219486332.491531] \\\\\n",
      "             MLP & [609743166.7162671] \\\\\n",
      "Regressão Linear & [406495444.5729817] \\\\\n",
      "\\bottomrule\n",
      "\\end{tabular}\n",
      "\n"
     ]
    },
    {
     "name": "stderr",
     "output_type": "stream",
     "text": [
      "C:\\Users\\leona\\AppData\\Local\\Temp/ipykernel_24212/3722848120.py:1: VisibleDeprecationWarning:\n",
      "\n",
      "Creating an ndarray from ragged nested sequences (which is a list-or-tuple of lists-or-tuples-or ndarrays with different lengths or shapes) is deprecated. If you meant to do this, you must specify 'dtype=object' when creating the ndarray.\n",
      "\n"
     ]
    }
   ],
   "source": [
    "rr = pd.DataFrame(np.array([classificadores, r]).T,  columns = ['Classificadores', 'EQM'])\n",
    "\n",
    "print(rr.to_latex(index = False))"
   ]
  },
  {
   "cell_type": "code",
   "execution_count": null,
   "id": "00487c01-96c1-4bcd-a38e-9ae735664e72",
   "metadata": {},
   "outputs": [
    {
     "data": {
      "text/plain": [
       "120958"
      ]
     },
     "execution_count": 130,
     "metadata": {},
     "output_type": "execute_result"
    }
   ],
   "source": [
    "dff_Enem[1998].shape[0]"
   ]
  },
  {
   "cell_type": "code",
   "execution_count": null,
   "id": "1f979afa-7131-4474-908b-b7ec6df38878",
   "metadata": {},
   "outputs": [],
   "source": []
  }
 ],
 "metadata": {
  "kernelspec": {
   "display_name": "Python 3 (ipykernel)",
   "language": "python",
   "name": "python3"
  },
  "language_info": {
   "codemirror_mode": {
    "name": "ipython",
    "version": 3
   },
   "file_extension": ".py",
   "mimetype": "text/x-python",
   "name": "python",
   "nbconvert_exporter": "python",
   "pygments_lexer": "ipython3",
   "version": "3.8.12"
  }
 },
 "nbformat": 4,
 "nbformat_minor": 5
}
