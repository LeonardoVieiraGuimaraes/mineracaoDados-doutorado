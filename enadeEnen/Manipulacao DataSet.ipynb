{
 "cells": [
  {
   "cell_type": "code",
   "execution_count": 10,
   "id": "cdee130a-86f1-4cf8-8192-1e0193191117",
   "metadata": {},
   "outputs": [],
   "source": [
    "import numpy as np\n",
    "import os\n",
    "import pandas as pd\n",
    "import dask.dataframe as dd\n",
    "import gc"
   ]
  },
  {
   "cell_type": "code",
   "execution_count": 11,
   "id": "dbf27501-8fe4-4b93-b5b7-973cacc0dbe4",
   "metadata": {},
   "outputs": [],
   "source": [
    "past = 'Enem/DataSet_ENEM/'"
   ]
  },
  {
   "cell_type": "code",
   "execution_count": 12,
   "id": "361f3ba3-cb3a-487d-aa4e-2a8aed901e3d",
   "metadata": {},
   "outputs": [],
   "source": [
    "files = os.listdir(past)"
   ]
  },
  {
   "cell_type": "code",
   "execution_count": 22,
   "id": "8f628bc8-139e-41c3-9f5c-31a4560027a8",
   "metadata": {},
   "outputs": [],
   "source": [
    "df = {}\n",
    "ano_inicio = 1998\n",
    "ano_fim = 2019\n",
    "for ano in range(ano_inicio, ano_fim + 1):\n",
    "    temp = dd.read_csv(past + 'MICRODADOS_ENEM_' + str(ano) + '.csv', encoding= \"ISO-8859-1\", delimiter = ';')\n",
    "    df.update({ano : temp})"
   ]
  },
  {
   "cell_type": "code",
   "execution_count": 23,
   "id": "2c5ac558-e01a-4832-8331-7051a6efb769",
   "metadata": {},
   "outputs": [
    {
     "data": {
      "text/plain": [
       "<bound method _Frame.head of Dask DataFrame Structure:\n",
       "              NU_INSCRICAO NU_ANO NU_IDADE TP_SEXO CO_MUNICIPIO_RESIDENCIA NO_MUNICIPIO_RESIDENCIA CO_UF_RESIDENCIA SG_UF_RESIDENCIA TP_PRESENCA CO_PROVA VL_PERC_COMP1 VL_PERC_COMP2 VL_PERC_COMP3 VL_PERC_COMP4 VL_PERC_COMP5 NU_NOTA_OBJETIVA TX_RESPOSTAS_OBJETIVA TX_GABARITO_OBJETIVA TP_STATUS_REDACAO NU_NOTA_COMP1 NU_NOTA_COMP2 NU_NOTA_COMP3 NU_NOTA_COMP4 NU_NOTA_COMP5 NU_NOTA_REDACAO IN_QSE      Q1      Q2      Q3      Q4      Q5      Q6      Q7      Q8      Q9     Q10     Q11     Q12     Q13     Q14     Q15     Q16     Q17     Q18     Q19     Q20     Q21     Q22     Q23     Q24     Q25     Q26     Q27     Q28     Q29     Q30     Q31     Q32     Q33     Q34     Q35     Q36     Q37     Q38     Q39     Q40     Q41     Q42     Q43     Q44     Q45     Q46     Q47     Q48     Q49     Q50     Q51     Q52     Q53     Q54     Q55     Q56     Q57     Q58     Q59     Q60     Q61     Q62     Q63     Q64     Q65     Q66     Q67     Q68     Q69     Q70     Q71     Q72     Q73     Q74     Q75     Q76     Q77     Q78     Q79     Q80     Q81     Q82     Q83     Q84     Q85     Q86     Q87     Q88     Q89     Q90     Q91     Q92     Q93     Q94     Q95     Q96     Q97     Q98     Q99    Q100    Q101    Q102    Q103    Q104    Q105    Q106    Q107    Q108    Q109    Q110    Q111    Q112    Q113    Q114    Q115    Q116    Q117    Q118    Q119    Q120    Q121    Q122    Q123    Q124    Q125    Q126    Q127    Q128    Q129    Q130    Q131    Q132    Q133    Q134    Q135    Q136    Q137\n",
       "npartitions=1                                                                                                                                                                                                                                                                                                                                                                                                                                                                                                                                                                                                                                                                                                                                                                                                                                                                                                                                                                                                                                                                                                                                                                                                                                                                                                                                                                                                                                                                                                                                     \n",
       "                     int64  int64    int64  object                   int64                  object            int64           object       int64   object       float64       float64       float64       float64       float64          float64                object               object            object         int64         int64         int64         int64         int64           int64  int64  object  object  object  object  object  object  object  object  object  object  object  object  object  object  object  object  object  object  object  object  object  object  object  object  object  object  object  object  object  object  object  object  object  object  object  object  object  object  object  object  object  object  object  object  object  object  object  object  object  object  object  object  object  object  object  object  object  object  object  object  object  object  object  object  object  object  object  object  object  object  object  object  object  object  object  object  object  object  object  object  object  object  object  object  object  object  object  object  object  object  object  object  object  object  object  object  object  object  object  object  object  object  object  object  object  object  object  object  object  object  object  object  object  object  object  object  object  object  object  object  object  object  object  object  object  object  object  object  object  object  object  object  object  object  object  object  object\n",
       "                       ...    ...      ...     ...                     ...                     ...              ...              ...         ...      ...           ...           ...           ...           ...           ...              ...                   ...                  ...               ...           ...           ...           ...           ...           ...             ...    ...     ...     ...     ...     ...     ...     ...     ...     ...     ...     ...     ...     ...     ...     ...     ...     ...     ...     ...     ...     ...     ...     ...     ...     ...     ...     ...     ...     ...     ...     ...     ...     ...     ...     ...     ...     ...     ...     ...     ...     ...     ...     ...     ...     ...     ...     ...     ...     ...     ...     ...     ...     ...     ...     ...     ...     ...     ...     ...     ...     ...     ...     ...     ...     ...     ...     ...     ...     ...     ...     ...     ...     ...     ...     ...     ...     ...     ...     ...     ...     ...     ...     ...     ...     ...     ...     ...     ...     ...     ...     ...     ...     ...     ...     ...     ...     ...     ...     ...     ...     ...     ...     ...     ...     ...     ...     ...     ...     ...     ...     ...     ...     ...     ...     ...     ...     ...     ...     ...     ...     ...     ...     ...     ...     ...     ...     ...     ...     ...     ...     ...     ...     ...     ...     ...     ...     ...     ...\n",
       "Dask Name: read-csv, 1 tasks>"
      ]
     },
     "execution_count": 27,
     "metadata": {},
     "output_type": "execute_result"
    }
   ],
   "source": [
    "df.19"
   ]
  },
  {
   "cell_type": "code",
   "execution_count": 4,
   "id": "fd2af190-809f-4026-b27d-105626508a0a",
   "metadata": {},
   "outputs": [
    {
     "name": "stdout",
     "output_type": "stream",
     "text": [
      "2019 170\n"
     ]
    }
   ],
   "source": [
    "df = {}\n",
    "ano_inicio = 2019\n",
    "ano_fim = 2019\n",
    "for ano in range(ano_inicio, ano_fim + 1):\n",
    "    chunks = []\n",
    "    #data = pd.DataFrame()\n",
    "    for chunk in pd.read_csv(past + 'MICRODADOS_ENEM_' + str(ano) + '.csv', encoding= \"ISO-8859-1\", delimiter = ';',\n",
    "                             low_memory = False, chunksize = 30000):\n",
    "        df_train = chunk if i == 1 else pd.concat([df_train, chunk], ignore_index=True)\n",
    "        print('-->Read Chunk...', i)\n",
    "        i += 1"
   ]
  },
  {
   "cell_type": "code",
   "execution_count": 34,
   "id": "647b6638-534f-49a5-a31b-a0c8899de9df",
   "metadata": {},
   "outputs": [
    {
     "ename": "KeyError",
     "evalue": "'NU_NOTA_CN'",
     "output_type": "error",
     "traceback": [
      "\u001b[1;31m---------------------------------------------------------------------------\u001b[0m",
      "\u001b[1;31mKeyError\u001b[0m                                  Traceback (most recent call last)",
      "\u001b[1;32m~\\anaconda3\\envs\\PythonR\\lib\\site-packages\\pandas\\core\\indexes\\base.py\u001b[0m in \u001b[0;36mget_loc\u001b[1;34m(self, key, method, tolerance)\u001b[0m\n\u001b[0;32m   3360\u001b[0m             \u001b[1;32mtry\u001b[0m\u001b[1;33m:\u001b[0m\u001b[1;33m\u001b[0m\u001b[1;33m\u001b[0m\u001b[0m\n\u001b[1;32m-> 3361\u001b[1;33m                 \u001b[1;32mreturn\u001b[0m \u001b[0mself\u001b[0m\u001b[1;33m.\u001b[0m\u001b[0m_engine\u001b[0m\u001b[1;33m.\u001b[0m\u001b[0mget_loc\u001b[0m\u001b[1;33m(\u001b[0m\u001b[0mcasted_key\u001b[0m\u001b[1;33m)\u001b[0m\u001b[1;33m\u001b[0m\u001b[1;33m\u001b[0m\u001b[0m\n\u001b[0m\u001b[0;32m   3362\u001b[0m             \u001b[1;32mexcept\u001b[0m \u001b[0mKeyError\u001b[0m \u001b[1;32mas\u001b[0m \u001b[0merr\u001b[0m\u001b[1;33m:\u001b[0m\u001b[1;33m\u001b[0m\u001b[1;33m\u001b[0m\u001b[0m\n",
      "\u001b[1;32m~\\anaconda3\\envs\\PythonR\\lib\\site-packages\\pandas\\_libs\\index.pyx\u001b[0m in \u001b[0;36mpandas._libs.index.IndexEngine.get_loc\u001b[1;34m()\u001b[0m\n",
      "\u001b[1;32m~\\anaconda3\\envs\\PythonR\\lib\\site-packages\\pandas\\_libs\\index.pyx\u001b[0m in \u001b[0;36mpandas._libs.index.IndexEngine.get_loc\u001b[1;34m()\u001b[0m\n",
      "\u001b[1;32mpandas\\_libs\\hashtable_class_helper.pxi\u001b[0m in \u001b[0;36mpandas._libs.hashtable.PyObjectHashTable.get_item\u001b[1;34m()\u001b[0m\n",
      "\u001b[1;32mpandas\\_libs\\hashtable_class_helper.pxi\u001b[0m in \u001b[0;36mpandas._libs.hashtable.PyObjectHashTable.get_item\u001b[1;34m()\u001b[0m\n",
      "\u001b[1;31mKeyError\u001b[0m: 'NU_NOTA_CN'",
      "\nThe above exception was the direct cause of the following exception:\n",
      "\u001b[1;31mKeyError\u001b[0m                                  Traceback (most recent call last)",
      "\u001b[1;32m~\\AppData\\Local\\Temp/ipykernel_2504/2748776933.py\u001b[0m in \u001b[0;36m<module>\u001b[1;34m\u001b[0m\n\u001b[0;32m      1\u001b[0m \u001b[0mdf1\u001b[0m \u001b[1;33m=\u001b[0m \u001b[0mdf\u001b[0m\u001b[1;33m[\u001b[0m\u001b[1;36m2019\u001b[0m\u001b[1;33m]\u001b[0m\u001b[1;33m\u001b[0m\u001b[1;33m\u001b[0m\u001b[0m\n\u001b[1;32m----> 2\u001b[1;33m \u001b[0mdf1\u001b[0m\u001b[1;33m[\u001b[0m\u001b[1;34m'NU_NOTA_CN'\u001b[0m\u001b[1;33m]\u001b[0m\u001b[1;33m\u001b[0m\u001b[1;33m\u001b[0m\u001b[0m\n\u001b[0m",
      "\u001b[1;32m~\\anaconda3\\envs\\PythonR\\lib\\site-packages\\pandas\\core\\frame.py\u001b[0m in \u001b[0;36m__getitem__\u001b[1;34m(self, key)\u001b[0m\n\u001b[0;32m   3456\u001b[0m             \u001b[1;32mif\u001b[0m \u001b[0mself\u001b[0m\u001b[1;33m.\u001b[0m\u001b[0mcolumns\u001b[0m\u001b[1;33m.\u001b[0m\u001b[0mnlevels\u001b[0m \u001b[1;33m>\u001b[0m \u001b[1;36m1\u001b[0m\u001b[1;33m:\u001b[0m\u001b[1;33m\u001b[0m\u001b[1;33m\u001b[0m\u001b[0m\n\u001b[0;32m   3457\u001b[0m                 \u001b[1;32mreturn\u001b[0m \u001b[0mself\u001b[0m\u001b[1;33m.\u001b[0m\u001b[0m_getitem_multilevel\u001b[0m\u001b[1;33m(\u001b[0m\u001b[0mkey\u001b[0m\u001b[1;33m)\u001b[0m\u001b[1;33m\u001b[0m\u001b[1;33m\u001b[0m\u001b[0m\n\u001b[1;32m-> 3458\u001b[1;33m             \u001b[0mindexer\u001b[0m \u001b[1;33m=\u001b[0m \u001b[0mself\u001b[0m\u001b[1;33m.\u001b[0m\u001b[0mcolumns\u001b[0m\u001b[1;33m.\u001b[0m\u001b[0mget_loc\u001b[0m\u001b[1;33m(\u001b[0m\u001b[0mkey\u001b[0m\u001b[1;33m)\u001b[0m\u001b[1;33m\u001b[0m\u001b[1;33m\u001b[0m\u001b[0m\n\u001b[0m\u001b[0;32m   3459\u001b[0m             \u001b[1;32mif\u001b[0m \u001b[0mis_integer\u001b[0m\u001b[1;33m(\u001b[0m\u001b[0mindexer\u001b[0m\u001b[1;33m)\u001b[0m\u001b[1;33m:\u001b[0m\u001b[1;33m\u001b[0m\u001b[1;33m\u001b[0m\u001b[0m\n\u001b[0;32m   3460\u001b[0m                 \u001b[0mindexer\u001b[0m \u001b[1;33m=\u001b[0m \u001b[1;33m[\u001b[0m\u001b[0mindexer\u001b[0m\u001b[1;33m]\u001b[0m\u001b[1;33m\u001b[0m\u001b[1;33m\u001b[0m\u001b[0m\n",
      "\u001b[1;32m~\\anaconda3\\envs\\PythonR\\lib\\site-packages\\pandas\\core\\indexes\\base.py\u001b[0m in \u001b[0;36mget_loc\u001b[1;34m(self, key, method, tolerance)\u001b[0m\n\u001b[0;32m   3361\u001b[0m                 \u001b[1;32mreturn\u001b[0m \u001b[0mself\u001b[0m\u001b[1;33m.\u001b[0m\u001b[0m_engine\u001b[0m\u001b[1;33m.\u001b[0m\u001b[0mget_loc\u001b[0m\u001b[1;33m(\u001b[0m\u001b[0mcasted_key\u001b[0m\u001b[1;33m)\u001b[0m\u001b[1;33m\u001b[0m\u001b[1;33m\u001b[0m\u001b[0m\n\u001b[0;32m   3362\u001b[0m             \u001b[1;32mexcept\u001b[0m \u001b[0mKeyError\u001b[0m \u001b[1;32mas\u001b[0m \u001b[0merr\u001b[0m\u001b[1;33m:\u001b[0m\u001b[1;33m\u001b[0m\u001b[1;33m\u001b[0m\u001b[0m\n\u001b[1;32m-> 3363\u001b[1;33m                 \u001b[1;32mraise\u001b[0m \u001b[0mKeyError\u001b[0m\u001b[1;33m(\u001b[0m\u001b[0mkey\u001b[0m\u001b[1;33m)\u001b[0m \u001b[1;32mfrom\u001b[0m \u001b[0merr\u001b[0m\u001b[1;33m\u001b[0m\u001b[1;33m\u001b[0m\u001b[0m\n\u001b[0m\u001b[0;32m   3364\u001b[0m \u001b[1;33m\u001b[0m\u001b[0m\n\u001b[0;32m   3365\u001b[0m         \u001b[1;32mif\u001b[0m \u001b[0mis_scalar\u001b[0m\u001b[1;33m(\u001b[0m\u001b[0mkey\u001b[0m\u001b[1;33m)\u001b[0m \u001b[1;32mand\u001b[0m \u001b[0misna\u001b[0m\u001b[1;33m(\u001b[0m\u001b[0mkey\u001b[0m\u001b[1;33m)\u001b[0m \u001b[1;32mand\u001b[0m \u001b[1;32mnot\u001b[0m \u001b[0mself\u001b[0m\u001b[1;33m.\u001b[0m\u001b[0mhasnans\u001b[0m\u001b[1;33m:\u001b[0m\u001b[1;33m\u001b[0m\u001b[1;33m\u001b[0m\u001b[0m\n",
      "\u001b[1;31mKeyError\u001b[0m: 'NU_NOTA_CN'"
     ]
    }
   ],
   "source": [
    "df1 = df[2019]\n",
    "df1['NU_NOTA_CN']"
   ]
  },
  {
   "cell_type": "code",
   "execution_count": null,
   "id": "53e0cd53-5386-4f79-b4cb-97d5feb25810",
   "metadata": {},
   "outputs": [],
   "source": []
  },
  {
   "cell_type": "code",
   "execution_count": 11,
   "id": "41068731-f679-4d02-a788-f79061469896",
   "metadata": {},
   "outputs": [],
   "source": [
    "df1 = pd.DataFrame(pd.concat(df,ignore_index = True, join=\"inner\"))"
   ]
  },
  {
   "cell_type": "code",
   "execution_count": 12,
   "id": "d0c245e2-00b1-4146-9e38-55d2f2c187c7",
   "metadata": {},
   "outputs": [],
   "source": [
    "df1 = df1.dropna()"
   ]
  },
  {
   "cell_type": "code",
   "execution_count": 15,
   "id": "c8fca750-91f3-415c-979e-08c312dbd752",
   "metadata": {},
   "outputs": [
    {
     "name": "stdout",
     "output_type": "stream",
     "text": [
      "['NU_INSCRICAO' 'NU_ANO' 'NU_IDADE' 'TP_SEXO' 'CO_MUNICIPIO_RESIDENCIA'\n",
      " 'NO_MUNICIPIO_RESIDENCIA' 'CO_UF_RESIDENCIA' 'SG_UF_RESIDENCIA'\n",
      " 'TP_PRESENCA' 'CO_PROVA' 'VL_PERC_COMP1' 'VL_PERC_COMP2' 'VL_PERC_COMP3'\n",
      " 'VL_PERC_COMP4' 'VL_PERC_COMP5' 'NU_NOTA_OBJETIVA'\n",
      " 'TX_RESPOSTAS_OBJETIVA' 'TX_GABARITO_OBJETIVA' 'TP_STATUS_REDACAO'\n",
      " 'NU_NOTA_COMP1' 'NU_NOTA_COMP2' 'NU_NOTA_COMP3' 'NU_NOTA_COMP4'\n",
      " 'NU_NOTA_COMP5' 'NU_NOTA_REDACAO' 'IN_QSE' 'Q1' 'Q2' 'Q3' 'Q4' 'Q5' 'Q6'\n",
      " 'Q7' 'Q8' 'Q9' 'Q10' 'Q11' 'Q12' 'Q13' 'Q14' 'Q15' 'Q16' 'Q17' 'Q18'\n",
      " 'Q19' 'Q20' 'Q21' 'Q22' 'Q23' 'Q24' 'Q25' 'Q26' 'Q27' 'Q28' 'Q29' 'Q30'\n",
      " 'Q31' 'Q32' 'Q33' 'Q34' 'Q35' 'Q36' 'Q37' 'Q38' 'Q39' 'Q40' 'Q41' 'Q42'\n",
      " 'Q43' 'Q44' 'Q45' 'Q46' 'Q47' 'Q48' 'Q49' 'Q50' 'Q51' 'Q52' 'Q53' 'Q54'\n",
      " 'Q55' 'Q56' 'Q57' 'Q58' 'Q59' 'Q60' 'Q61' 'Q62' 'Q63' 'Q64' 'Q65' 'Q66'\n",
      " 'Q67' 'Q68' 'Q69' 'Q70' 'Q71' 'Q72' 'Q73' 'Q74' 'Q75' 'Q76' 'Q77' 'Q78'\n",
      " 'Q79' 'Q80' 'Q81' 'Q82' 'Q83' 'Q84' 'Q85' 'Q86' 'Q87' 'Q88' 'Q89' 'Q90'\n",
      " 'Q91' 'Q92' 'Q93' 'Q94' 'Q95' 'Q96' 'Q97' 'Q98' 'Q99' 'Q100' 'Q101'\n",
      " 'Q102' 'Q103' 'Q104' 'Q105' 'Q106' 'Q107' 'Q108' 'Q109' 'Q110' 'Q111'\n",
      " 'Q112' 'Q113' 'Q114' 'Q115' 'Q116' 'Q117' 'Q118' 'Q119' 'Q120' 'Q121'\n",
      " 'Q122' 'Q123' 'Q124' 'Q125' 'Q126' 'Q127' 'Q128' 'Q129' 'Q130' 'Q131'\n",
      " 'Q132' 'Q133' 'Q134' 'Q135' 'Q136' 'Q137']\n"
     ]
    }
   ],
   "source": [
    "print(df1.columns.values)\n",
    "#pd.read_csv(past + file, encoding= \"ISO-8859-1\", delimiter = ';', on_bad_lines = 'skip', low_memory = True, index_col = False, chunksize = 10000):"
   ]
  },
  {
   "cell_type": "code",
   "execution_count": null,
   "id": "9a626c14-6448-46fb-b3b2-829722316699",
   "metadata": {},
   "outputs": [],
   "source": [
    "#df = pd.read_csv(past + files[10], encoding= \"ISO-8859-1\", delimiter = ';', on_bad_lines = 'skip', low_memory = True, \n",
    "                     #index_col = False, engine ='python', memory_map = True)"
   ]
  }
 ],
 "metadata": {
  "kernelspec": {
   "display_name": "Python 3 (ipykernel)",
   "language": "python",
   "name": "python3"
  },
  "language_info": {
   "codemirror_mode": {
    "name": "ipython",
    "version": 3
   },
   "file_extension": ".py",
   "mimetype": "text/x-python",
   "name": "python",
   "nbconvert_exporter": "python",
   "pygments_lexer": "ipython3",
   "version": "3.8.12"
  }
 },
 "nbformat": 4,
 "nbformat_minor": 5
}
