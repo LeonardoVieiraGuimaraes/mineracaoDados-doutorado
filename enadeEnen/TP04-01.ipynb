{
 "cells": [
  {
   "cell_type": "code",
   "execution_count": null,
   "id": "cdee130a-86f1-4cf8-8192-1e0193191117",
   "metadata": {},
   "outputs": [],
   "source": [
    "import numpy as np\n",
    "import os\n",
    "import pandas as pd\n",
    "import gc\n",
    "from sklearn.linear_model import HuberRegressor, LinearRegression\n",
    "from sklearn.ensemble import GradientBoostingRegressor\n",
    "from sklearn.neural_network import MLPClassifier\n",
    "from sklearn.ensemble import RandomForestRegressor\n",
    "from sklearn.datasets import make_regression\n",
    "from sklearn.model_selection import cross_val_score, cross_validate, cross_val_predict, KFold, train_test_split\n",
    "from sklearn.metrics import average_precision_score, precision_recall_curve, multilabel_confusion_matrix, confusion_matrix, ConfusionMatrixDisplay, classification_report,PrecisionRecallDisplay,accuracy_score, f1_score, precision_score, recall_score\n",
    "\n",
    "from imblearn.over_sampling import SMOTE\n",
    "from imblearn.under_sampling import NearMiss"
   ]
  },
  {
   "cell_type": "code",
   "execution_count": null,
   "id": "dbf27501-8fe4-4b93-b5b7-973cacc0dbe4",
   "metadata": {},
   "outputs": [],
   "source": [
    "pastENEM = 'Enem/DataSet/Data/'\n",
    "pastENADE = 'Enade/DataSet/Data/'\n",
    "pastVar = 'Enade/DataSet/Dicionarios/Variaveis/'"
   ]
  },
  {
   "cell_type": "code",
   "execution_count": null,
   "id": "361f3ba3-cb3a-487d-aa4e-2a8aed901e3d",
   "metadata": {},
   "outputs": [],
   "source": [
    "dff_Enade = {}\n",
    "dff_Enem = {}"
   ]
  },
  {
   "cell_type": "code",
   "execution_count": 31,
   "id": "fd2af190-809f-4026-b27d-105626508a0a",
   "metadata": {},
   "outputs": [
    {
     "name": "stdout",
     "output_type": "stream",
     "text": [
      "1998 Terminado\n",
      "1999 Terminado\n",
      "2000 Terminado\n",
      "2001 Terminado\n",
      "2002 Terminado\n",
      "2003 Terminado\n",
      "2004 Terminado\n",
      "2005 Terminado\n",
      "2006 Terminado\n",
      "2007 Terminado\n",
      "2008 Terminado\n",
      "2009 Terminado\n",
      "2010 Terminado\n",
      "2011 Terminado\n",
      "2012 Terminado\n",
      "2013 Terminado\n",
      "2014 Terminado\n",
      "2015 Terminado\n",
      "2016 Terminado\n",
      "2017 Terminado\n",
      "2018 Terminado\n",
      "2019 Terminado\n"
     ]
    }
   ],
   "source": [
    "ano_inicio = 1998\n",
    "ano_fim = 2019\n",
    "\n",
    "#cols = ['NU_IDADE', 'COD_MUN_RESID', 'OB_NT_CN', 'OB_NT_CH','OB_NT_LC', 'OB_NT_MT', ##\n",
    "#        'RD_NT_COMP1', 'RD_NT_COMP2', 'RD_NT_COMP3', 'RD_NT_COMP4', 'RD_NT_COMP5']\n",
    "\n",
    "#cols = ['UF_PROVA', 'NO_MUNICIPIO_PROVA', 'NOTA_CN', 'NOTA_CH', 'NOTA_LC', 'NOTA_MT', \n",
    "#          'NU_NOTA_COMP1', 'NU_NOTA_COMP2', 'NU_NOTA_COMP3', 'NU_NOTA_COMP4', 'NU_NOTA_COMP5']\n",
    "\n",
    "for ano in range(ano_inicio, ano_fim + 1):\n",
    "    temp = pd.DataFrame()\n",
    "    for chunk in pd.read_csv(pastENEM + 'MICRODADOS_ENEM_' + str(ano) + '.csv', encoding = 'Latin1', \n",
    "                             delimiter = ';', chunksize=300000,  low_memory = False):\n",
    "        temp = pd.concat([temp, chunk], ignore_index=True)\n",
    "        temp = temp.dropna()\n",
    "        #temp['CO_UF'] = temp['COD_MUN_RESID'].apply(str).str.slice(0,2)\n",
    "        #temp.to_csv(pastENEM + '/MICRODADOS_ENEM_' + str(ano) + '.csv', index = False, sep = ';', encoding = 'Latin1')\n",
    "        del chunk; gc.collect()\n",
    "    \n",
    "    dff_Enem.update({ano: temp})\n",
    "    del temp; gc.collect()\n",
    "    print(str(ano) + ' Terminado')"
   ]
  },
  {
   "cell_type": "code",
   "execution_count": 25,
   "id": "7dc84da4-8001-4a88-a2d3-3971b5ab3bd9",
   "metadata": {},
   "outputs": [
    {
     "name": "stdout",
     "output_type": "stream",
     "text": [
      "2004\n",
      "2005\n",
      "2006\n",
      "2007\n",
      "2008\n",
      "2009\n",
      "2010\n",
      "2011\n",
      "2012\n",
      "2013\n",
      "2014\n",
      "2015\n",
      "2016\n",
      "2017\n",
      "2018\n",
      "2019\n"
     ]
    }
   ],
   "source": [
    "ano_inicio = 2004\n",
    "ano_fim = 2019\n",
    "#var = {}\n",
    "#for ano in range(ano_inicio, ano_fim + 1):\n",
    "#    var.update({ano: pd.read_csv(pastVar + 'Variaveis_' + str(ano) + '.csv', sep = ';')})\n",
    "    \n",
    "for ano in range(ano_inicio, ano_fim + 1):\n",
    "    temp = pd.DataFrame()\n",
    "    cols = var[ano]['VAR'].values\n",
    "    for chunk in pd.read_csv(pastENADE + 'MICRODADOS_ENADE_' + str(ano) + '.csv', encoding = 'Latin1',\n",
    "                                 sep = ';', chunksize=300000,  low_memory = False):\n",
    "            temp = pd.concat([temp, chunk], ignore_index=True)\n",
    "            temp = temp.dropna()\n",
    "            del chunk; gc.collect()\n",
    "    dff_Enade.update({ano: temp})\n",
    "    del temp; gc.collect()\n",
    "    print(ano)"
   ]
  },
  {
   "cell_type": "code",
   "execution_count": 21,
   "id": "bdbe99ab-1bf6-42ff-86ea-0a3c2fce3123",
   "metadata": {},
   "outputs": [
    {
     "data": {
      "text/plain": [
       "Index(['CO_GRUPO', 'CO_MUNIC_CURSO', 'CO_UF_CURSO', 'NU_IDADE', 'ANO_IN_GRAD',\n",
       "       'NT_GER', 'NT_FG', 'NT_OBJ_FG', 'NT_DIS_FG', 'NT_FG_D1', 'NT_FG_D1_PT',\n",
       "       'NT_FG_D1_CT', 'NT_FG_D2', 'NT_FG_D2_PT', 'NT_FG_D2_CT', 'NT_CE',\n",
       "       'NT_OBJ_CE', 'NT_DIS_CE', 'NT_CE_D1', 'NT_CE_D2', 'NT_CE_D3'],\n",
       "      dtype='object')"
      ]
     },
     "execution_count": 21,
     "metadata": {},
     "output_type": "execute_result"
    }
   ],
   "source": [
    "dff_Enade[2019].columns"
   ]
  },
  {
   "cell_type": "code",
   "execution_count": null,
   "id": "c46b6f6b-d049-48b3-8bb7-b7471eef48ac",
   "metadata": {},
   "outputs": [],
   "source": [
    "dff_Enem[2017].columns"
   ]
  },
  {
   "cell_type": "code",
   "execution_count": 38,
   "id": "ca7b56b3-6782-49ae-9511-4e1338d80175",
   "metadata": {},
   "outputs": [
    {
     "ename": "NameError",
     "evalue": "name 'dff_ENEM' is not defined",
     "output_type": "error",
     "traceback": [
      "\u001b[1;31m---------------------------------------------------------------------------\u001b[0m",
      "\u001b[1;31mNameError\u001b[0m                                 Traceback (most recent call last)",
      "\u001b[1;32m~\\AppData\\Local\\Temp/ipykernel_16108/3511408707.py\u001b[0m in \u001b[0;36m<module>\u001b[1;34m\u001b[0m\n\u001b[1;32m----> 1\u001b[1;33m \u001b[0mdff_ENEM\u001b[0m\u001b[1;33m[\u001b[0m\u001b[1;36m2019\u001b[0m\u001b[1;33m]\u001b[0m\u001b[1;33m\u001b[0m\u001b[1;33m\u001b[0m\u001b[0m\n\u001b[0m",
      "\u001b[1;31mNameError\u001b[0m: name 'dff_ENEM' is not defined"
     ]
    }
   ],
   "source": [
    "dff_ENEM[2019]"
   ]
  },
  {
   "cell_type": "code",
   "execution_count": null,
   "id": "ccc034d9-1517-4f58-aa46-61e9cb0826e2",
   "metadata": {},
   "outputs": [],
   "source": [
    "ano_inicio = 2000\n",
    "ano_fim = 2019\n",
    "df_Enem_group = {}\n",
    "for ano in range(ano_inicio, ano_fim + 1):\n",
    "    df_Enem_group.update({ano:dff_Enem.groupby(by=\"COD_MUN_RESID\").mean()})"
   ]
  },
  {
   "cell_type": "code",
   "execution_count": 26,
   "id": "43eb321d-d321-4495-8b0d-5ee85fc1e937",
   "metadata": {},
   "outputs": [
    {
     "ename": "AttributeError",
     "evalue": "'dict' object has no attribute 'groupby'",
     "output_type": "error",
     "traceback": [
      "\u001b[1;31m---------------------------------------------------------------------------\u001b[0m",
      "\u001b[1;31mAttributeError\u001b[0m                            Traceback (most recent call last)",
      "\u001b[1;32m~\\AppData\\Local\\Temp/ipykernel_16108/1026294323.py\u001b[0m in \u001b[0;36m<module>\u001b[1;34m\u001b[0m\n\u001b[0;32m      3\u001b[0m \u001b[0mdf_Enade_group\u001b[0m \u001b[1;33m=\u001b[0m \u001b[1;33m{\u001b[0m\u001b[1;33m}\u001b[0m\u001b[1;33m\u001b[0m\u001b[1;33m\u001b[0m\u001b[0m\n\u001b[0;32m      4\u001b[0m \u001b[1;32mfor\u001b[0m \u001b[0mano\u001b[0m \u001b[1;32min\u001b[0m \u001b[0mrange\u001b[0m\u001b[1;33m(\u001b[0m\u001b[0mano_inicio\u001b[0m\u001b[1;33m,\u001b[0m \u001b[0mano_fim\u001b[0m \u001b[1;33m+\u001b[0m \u001b[1;36m1\u001b[0m\u001b[1;33m)\u001b[0m\u001b[1;33m:\u001b[0m\u001b[1;33m\u001b[0m\u001b[1;33m\u001b[0m\u001b[0m\n\u001b[1;32m----> 5\u001b[1;33m     \u001b[0mdf_Enade_group\u001b[0m\u001b[1;33m.\u001b[0m\u001b[0mupdate\u001b[0m\u001b[1;33m(\u001b[0m\u001b[1;33m{\u001b[0m\u001b[0mano\u001b[0m\u001b[1;33m:\u001b[0m\u001b[0mdff_Enade\u001b[0m\u001b[1;33m.\u001b[0m\u001b[0mgroupby\u001b[0m\u001b[1;33m(\u001b[0m\u001b[0mby\u001b[0m\u001b[1;33m=\u001b[0m\u001b[1;34m\"COD_MUN_RESID\"\u001b[0m\u001b[1;33m)\u001b[0m\u001b[1;33m.\u001b[0m\u001b[0mmean\u001b[0m\u001b[1;33m(\u001b[0m\u001b[1;33m)\u001b[0m\u001b[1;33m}\u001b[0m\u001b[1;33m)\u001b[0m\u001b[1;33m\u001b[0m\u001b[1;33m\u001b[0m\u001b[0m\n\u001b[0m",
      "\u001b[1;31mAttributeError\u001b[0m: 'dict' object has no attribute 'groupby'"
     ]
    }
   ],
   "source": [
    "ano_inicio = 2000\n",
    "ano_fim = 2019\n",
    "df_Enade_group = {}\n",
    "for ano in range(ano_inicio, ano_fim + 1):\n",
    "    df_Enade_group.update({ano:dff_Enade.groupby(by=\"COD_MUN_RESID\").mean()})"
   ]
  },
  {
   "cell_type": "code",
   "execution_count": null,
   "id": "5808e6b2-e3dc-4b2f-994f-f19010195520",
   "metadata": {},
   "outputs": [],
   "source": [
    "X = df3.drop(colr, axis = 1)\n",
    "X = pd.get_dummies(X)\n",
    "feature_names = X.columns\n",
    "y = df3[colr]\n",
    "#y = pd.get_dummies(y)\n",
    "label = df3[colr].unique()\n",
    "\n"
   ]
  },
  {
   "cell_type": "code",
   "execution_count": null,
   "id": "e7d1402a-2920-41d2-b667-26e3d393cb2f",
   "metadata": {},
   "outputs": [],
   "source": [
    "nr = NearMiss()\n",
    "#smt = SMOTE()\n",
    "X, y = nr.fit_resample(X, y)\n",
    "X = X.values\n",
    "y = y.values"
   ]
  },
  {
   "cell_type": "code",
   "execution_count": null,
   "id": "11e158ae-b5a0-4fba-a1b3-18cc01d55c5b",
   "metadata": {},
   "outputs": [],
   "source": [
    "norm = 'true'\n",
    "n = 10\n",
    "rs = 0\n",
    "kf = KFold(n_splits=n)"
   ]
  },
  {
   "cell_type": "code",
   "execution_count": null,
   "id": "aa1ef6db-2ce5-4c25-bffd-97909e4bc618",
   "metadata": {},
   "outputs": [],
   "source": [
    "reg = LinearRegression().fit(X, y)"
   ]
  }
 ],
 "metadata": {
  "kernelspec": {
   "display_name": "Python 3 (ipykernel)",
   "language": "python",
   "name": "python3"
  },
  "language_info": {
   "codemirror_mode": {
    "name": "ipython",
    "version": 3
   },
   "file_extension": ".py",
   "mimetype": "text/x-python",
   "name": "python",
   "nbconvert_exporter": "python",
   "pygments_lexer": "ipython3",
   "version": "3.8.12"
  }
 },
 "nbformat": 4,
 "nbformat_minor": 5
}
